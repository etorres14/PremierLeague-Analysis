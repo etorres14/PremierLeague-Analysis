{
  "nbformat": 4,
  "nbformat_minor": 0,
  "metadata": {
    "colab": {
      "name": "PremierLeague.ipynb",
      "provenance": [],
      "collapsed_sections": [
        "E0n1hFRYM2P_",
        "cgIgctkQ52qB",
        "r-v6lOg61Isi",
        "w_fUQUtZ1QTr"
      ],
      "authorship_tag": "ABX9TyN+j72MPwY713fF8sKiuv6d",
      "include_colab_link": true
    },
    "kernelspec": {
      "name": "python3",
      "display_name": "Python 3"
    },
    "language_info": {
      "name": "python"
    }
  },
  "cells": [
    {
      "cell_type": "markdown",
      "metadata": {
        "id": "view-in-github",
        "colab_type": "text"
      },
      "source": [
        "<a href=\"https://colab.research.google.com/github/etorres14/PremierLeague-Analysis/blob/main/PremierLeague-Analysis.ipynb\" target=\"_parent\"><img src=\"https://colab.research.google.com/assets/colab-badge.svg\" alt=\"Open In Colab\"/></a>"
      ]
    },
    {
      "cell_type": "code",
      "source": [
        "#Import Dependencies\n",
        "import pandas as pd\n",
        "import matplotlib.pyplot as plt\n",
        "import numpy as np\n",
        "from sklearn.linear_model import LogisticRegression"
      ],
      "metadata": {
        "id": "OH_NYa2gMraP"
      },
      "execution_count": 2,
      "outputs": []
    },
    {
      "cell_type": "code",
      "source": [
        "#Get data & create dataframe\n",
        "url_3 = 'https://fbref.com/en/comps/9/schedule/Premier-League-Scores-and-Fixtures'\n",
        "pl22 = pd.read_html(url_3, header = 0)\n",
        "pl22 = pl22[0]"
      ],
      "metadata": {
        "id": "B18VxO2bb2zK"
      },
      "execution_count": 3,
      "outputs": []
    },
    {
      "cell_type": "markdown",
      "source": [
        "# Basic Data Cleaning"
      ],
      "metadata": {
        "id": "E0n1hFRYM2P_"
      }
    },
    {
      "cell_type": "code",
      "source": [
        "pl22.head(5)"
      ],
      "metadata": {
        "colab": {
          "base_uri": "https://localhost:8080/",
          "height": 204
        },
        "id": "WC7knbq-MgxL",
        "outputId": "7a7c6183-78d8-43f6-a8be-8df84b18edc3"
      },
      "execution_count": 6,
      "outputs": [
        {
          "output_type": "execute_result",
          "data": {
            "text/plain": [
              "    Wk  Day        Date   Time            Home   xG Score  xG.1  \\\n",
              "0  1.0  Fri  2021-08-13  20:00       Brentford  1.3   2–0   1.4   \n",
              "1  1.0  Sat  2021-08-14  12:30  Manchester Utd  1.5   5–1   0.6   \n",
              "2  1.0  Sat  2021-08-14  15:00  Leicester City  0.8   1–0   1.1   \n",
              "3  1.0  Sat  2021-08-14  15:00         Burnley  1.0   1–2   1.3   \n",
              "4  1.0  Sat  2021-08-14  15:00         Chelsea  0.9   3–0   0.3   \n",
              "\n",
              "             Away  Attendance                        Venue         Referee  \\\n",
              "0         Arsenal     16479.0  Brentford Community Stadium  Michael Oliver   \n",
              "1    Leeds United     72732.0                 Old Trafford    Paul Tierney   \n",
              "2          Wolves     31983.0           King Power Stadium    Craig Pawson   \n",
              "3        Brighton     16910.0                    Turf Moor     David Coote   \n",
              "4  Crystal Palace     38965.0              Stamford Bridge   Jonathan Moss   \n",
              "\n",
              "   Match Report Notes  \n",
              "0  Match Report   NaN  \n",
              "1  Match Report   NaN  \n",
              "2  Match Report   NaN  \n",
              "3  Match Report   NaN  \n",
              "4  Match Report   NaN  "
            ],
            "text/html": [
              "\n",
              "  <div id=\"df-832cb52c-bf5a-411c-8e99-292ccc741206\">\n",
              "    <div class=\"colab-df-container\">\n",
              "      <div>\n",
              "<style scoped>\n",
              "    .dataframe tbody tr th:only-of-type {\n",
              "        vertical-align: middle;\n",
              "    }\n",
              "\n",
              "    .dataframe tbody tr th {\n",
              "        vertical-align: top;\n",
              "    }\n",
              "\n",
              "    .dataframe thead th {\n",
              "        text-align: right;\n",
              "    }\n",
              "</style>\n",
              "<table border=\"1\" class=\"dataframe\">\n",
              "  <thead>\n",
              "    <tr style=\"text-align: right;\">\n",
              "      <th></th>\n",
              "      <th>Wk</th>\n",
              "      <th>Day</th>\n",
              "      <th>Date</th>\n",
              "      <th>Time</th>\n",
              "      <th>Home</th>\n",
              "      <th>xG</th>\n",
              "      <th>Score</th>\n",
              "      <th>xG.1</th>\n",
              "      <th>Away</th>\n",
              "      <th>Attendance</th>\n",
              "      <th>Venue</th>\n",
              "      <th>Referee</th>\n",
              "      <th>Match Report</th>\n",
              "      <th>Notes</th>\n",
              "    </tr>\n",
              "  </thead>\n",
              "  <tbody>\n",
              "    <tr>\n",
              "      <th>0</th>\n",
              "      <td>1.0</td>\n",
              "      <td>Fri</td>\n",
              "      <td>2021-08-13</td>\n",
              "      <td>20:00</td>\n",
              "      <td>Brentford</td>\n",
              "      <td>1.3</td>\n",
              "      <td>2–0</td>\n",
              "      <td>1.4</td>\n",
              "      <td>Arsenal</td>\n",
              "      <td>16479.0</td>\n",
              "      <td>Brentford Community Stadium</td>\n",
              "      <td>Michael Oliver</td>\n",
              "      <td>Match Report</td>\n",
              "      <td>NaN</td>\n",
              "    </tr>\n",
              "    <tr>\n",
              "      <th>1</th>\n",
              "      <td>1.0</td>\n",
              "      <td>Sat</td>\n",
              "      <td>2021-08-14</td>\n",
              "      <td>12:30</td>\n",
              "      <td>Manchester Utd</td>\n",
              "      <td>1.5</td>\n",
              "      <td>5–1</td>\n",
              "      <td>0.6</td>\n",
              "      <td>Leeds United</td>\n",
              "      <td>72732.0</td>\n",
              "      <td>Old Trafford</td>\n",
              "      <td>Paul Tierney</td>\n",
              "      <td>Match Report</td>\n",
              "      <td>NaN</td>\n",
              "    </tr>\n",
              "    <tr>\n",
              "      <th>2</th>\n",
              "      <td>1.0</td>\n",
              "      <td>Sat</td>\n",
              "      <td>2021-08-14</td>\n",
              "      <td>15:00</td>\n",
              "      <td>Leicester City</td>\n",
              "      <td>0.8</td>\n",
              "      <td>1–0</td>\n",
              "      <td>1.1</td>\n",
              "      <td>Wolves</td>\n",
              "      <td>31983.0</td>\n",
              "      <td>King Power Stadium</td>\n",
              "      <td>Craig Pawson</td>\n",
              "      <td>Match Report</td>\n",
              "      <td>NaN</td>\n",
              "    </tr>\n",
              "    <tr>\n",
              "      <th>3</th>\n",
              "      <td>1.0</td>\n",
              "      <td>Sat</td>\n",
              "      <td>2021-08-14</td>\n",
              "      <td>15:00</td>\n",
              "      <td>Burnley</td>\n",
              "      <td>1.0</td>\n",
              "      <td>1–2</td>\n",
              "      <td>1.3</td>\n",
              "      <td>Brighton</td>\n",
              "      <td>16910.0</td>\n",
              "      <td>Turf Moor</td>\n",
              "      <td>David Coote</td>\n",
              "      <td>Match Report</td>\n",
              "      <td>NaN</td>\n",
              "    </tr>\n",
              "    <tr>\n",
              "      <th>4</th>\n",
              "      <td>1.0</td>\n",
              "      <td>Sat</td>\n",
              "      <td>2021-08-14</td>\n",
              "      <td>15:00</td>\n",
              "      <td>Chelsea</td>\n",
              "      <td>0.9</td>\n",
              "      <td>3–0</td>\n",
              "      <td>0.3</td>\n",
              "      <td>Crystal Palace</td>\n",
              "      <td>38965.0</td>\n",
              "      <td>Stamford Bridge</td>\n",
              "      <td>Jonathan Moss</td>\n",
              "      <td>Match Report</td>\n",
              "      <td>NaN</td>\n",
              "    </tr>\n",
              "  </tbody>\n",
              "</table>\n",
              "</div>\n",
              "      <button class=\"colab-df-convert\" onclick=\"convertToInteractive('df-832cb52c-bf5a-411c-8e99-292ccc741206')\"\n",
              "              title=\"Convert this dataframe to an interactive table.\"\n",
              "              style=\"display:none;\">\n",
              "        \n",
              "  <svg xmlns=\"http://www.w3.org/2000/svg\" height=\"24px\"viewBox=\"0 0 24 24\"\n",
              "       width=\"24px\">\n",
              "    <path d=\"M0 0h24v24H0V0z\" fill=\"none\"/>\n",
              "    <path d=\"M18.56 5.44l.94 2.06.94-2.06 2.06-.94-2.06-.94-.94-2.06-.94 2.06-2.06.94zm-11 1L8.5 8.5l.94-2.06 2.06-.94-2.06-.94L8.5 2.5l-.94 2.06-2.06.94zm10 10l.94 2.06.94-2.06 2.06-.94-2.06-.94-.94-2.06-.94 2.06-2.06.94z\"/><path d=\"M17.41 7.96l-1.37-1.37c-.4-.4-.92-.59-1.43-.59-.52 0-1.04.2-1.43.59L10.3 9.45l-7.72 7.72c-.78.78-.78 2.05 0 2.83L4 21.41c.39.39.9.59 1.41.59.51 0 1.02-.2 1.41-.59l7.78-7.78 2.81-2.81c.8-.78.8-2.07 0-2.86zM5.41 20L4 18.59l7.72-7.72 1.47 1.35L5.41 20z\"/>\n",
              "  </svg>\n",
              "      </button>\n",
              "      \n",
              "  <style>\n",
              "    .colab-df-container {\n",
              "      display:flex;\n",
              "      flex-wrap:wrap;\n",
              "      gap: 12px;\n",
              "    }\n",
              "\n",
              "    .colab-df-convert {\n",
              "      background-color: #E8F0FE;\n",
              "      border: none;\n",
              "      border-radius: 50%;\n",
              "      cursor: pointer;\n",
              "      display: none;\n",
              "      fill: #1967D2;\n",
              "      height: 32px;\n",
              "      padding: 0 0 0 0;\n",
              "      width: 32px;\n",
              "    }\n",
              "\n",
              "    .colab-df-convert:hover {\n",
              "      background-color: #E2EBFA;\n",
              "      box-shadow: 0px 1px 2px rgba(60, 64, 67, 0.3), 0px 1px 3px 1px rgba(60, 64, 67, 0.15);\n",
              "      fill: #174EA6;\n",
              "    }\n",
              "\n",
              "    [theme=dark] .colab-df-convert {\n",
              "      background-color: #3B4455;\n",
              "      fill: #D2E3FC;\n",
              "    }\n",
              "\n",
              "    [theme=dark] .colab-df-convert:hover {\n",
              "      background-color: #434B5C;\n",
              "      box-shadow: 0px 1px 3px 1px rgba(0, 0, 0, 0.15);\n",
              "      filter: drop-shadow(0px 1px 2px rgba(0, 0, 0, 0.3));\n",
              "      fill: #FFFFFF;\n",
              "    }\n",
              "  </style>\n",
              "\n",
              "      <script>\n",
              "        const buttonEl =\n",
              "          document.querySelector('#df-832cb52c-bf5a-411c-8e99-292ccc741206 button.colab-df-convert');\n",
              "        buttonEl.style.display =\n",
              "          google.colab.kernel.accessAllowed ? 'block' : 'none';\n",
              "\n",
              "        async function convertToInteractive(key) {\n",
              "          const element = document.querySelector('#df-832cb52c-bf5a-411c-8e99-292ccc741206');\n",
              "          const dataTable =\n",
              "            await google.colab.kernel.invokeFunction('convertToInteractive',\n",
              "                                                     [key], {});\n",
              "          if (!dataTable) return;\n",
              "\n",
              "          const docLinkHtml = 'Like what you see? Visit the ' +\n",
              "            '<a target=\"_blank\" href=https://colab.research.google.com/notebooks/data_table.ipynb>data table notebook</a>'\n",
              "            + ' to learn more about interactive tables.';\n",
              "          element.innerHTML = '';\n",
              "          dataTable['output_type'] = 'display_data';\n",
              "          await google.colab.output.renderOutput(dataTable, element);\n",
              "          const docLink = document.createElement('div');\n",
              "          docLink.innerHTML = docLinkHtml;\n",
              "          element.appendChild(docLink);\n",
              "        }\n",
              "      </script>\n",
              "    </div>\n",
              "  </div>\n",
              "  "
            ]
          },
          "metadata": {},
          "execution_count": 6
        }
      ]
    },
    {
      "cell_type": "code",
      "source": [
        "print(pl22.isnull().sum())\n",
        "#153 matches haven't been played yet so I want to probably create a subset of my data with only matches that have been played\n",
        "#I'll do this towards the end\n",
        "\n",
        "\n",
        "print(pl22.info())\n",
        "#Need to fix Date column and Time column\n",
        "#Label Home and Away XG's\n",
        "#Split Score and make columns for Home and Away Score, then reoder.\n",
        "#Drop Match Report Column\n",
        "#Create a column that indicates the final match result"
      ],
      "metadata": {
        "colab": {
          "base_uri": "https://localhost:8080/"
        },
        "id": "jXmuJrmhNdTJ",
        "outputId": "2f2e7317-3f8e-46d5-c7de-645262d0e93a"
      },
      "execution_count": 7,
      "outputs": [
        {
          "output_type": "stream",
          "name": "stdout",
          "text": [
            "Wk               66\n",
            "Day              66\n",
            "Date             66\n",
            "Time             66\n",
            "Home             66\n",
            "xG              147\n",
            "Score           147\n",
            "xG.1            147\n",
            "Away             66\n",
            "Attendance      148\n",
            "Venue            66\n",
            "Referee         147\n",
            "Match Report     68\n",
            "Notes           444\n",
            "dtype: int64\n",
            "<class 'pandas.core.frame.DataFrame'>\n",
            "RangeIndex: 446 entries, 0 to 445\n",
            "Data columns (total 14 columns):\n",
            " #   Column        Non-Null Count  Dtype  \n",
            "---  ------        --------------  -----  \n",
            " 0   Wk            380 non-null    float64\n",
            " 1   Day           380 non-null    object \n",
            " 2   Date          380 non-null    object \n",
            " 3   Time          380 non-null    object \n",
            " 4   Home          380 non-null    object \n",
            " 5   xG            299 non-null    float64\n",
            " 6   Score         299 non-null    object \n",
            " 7   xG.1          299 non-null    float64\n",
            " 8   Away          380 non-null    object \n",
            " 9   Attendance    298 non-null    float64\n",
            " 10  Venue         380 non-null    object \n",
            " 11  Referee       299 non-null    object \n",
            " 12  Match Report  378 non-null    object \n",
            " 13  Notes         2 non-null      object \n",
            "dtypes: float64(4), object(10)\n",
            "memory usage: 48.9+ KB\n",
            "None\n"
          ]
        }
      ]
    },
    {
      "cell_type": "code",
      "source": [
        "# Change Date column to DateTime format\n",
        "pl22['Date'] = pd.to_datetime(pl22['Date'])"
      ],
      "metadata": {
        "id": "vr1QRhN1MIcw"
      },
      "execution_count": 8,
      "outputs": []
    },
    {
      "cell_type": "code",
      "source": [
        "#rename xG columns\n",
        "pl22.rename(columns={'xG': 'HxG', 'xG.1': 'AxG'}, inplace=True)"
      ],
      "metadata": {
        "id": "Yc9A95jWNdJ8"
      },
      "execution_count": 9,
      "outputs": []
    },
    {
      "cell_type": "code",
      "source": [
        "#split Score column into away and home score\n",
        "def home_score(input):\n",
        "  input = str(input)\n",
        "  return input[0]\n",
        "def away_score(input):\n",
        "  input = str(input)\n",
        "  return input[2]\n",
        "\n",
        "\n",
        "pl22[\"Home_Score\"] = pl22.Score.apply(home_score)\n",
        "pl22[\"Away_Score\"] = pl22.Score.apply(away_score)"
      ],
      "metadata": {
        "id": "6rpG18QSNdGg"
      },
      "execution_count": 10,
      "outputs": []
    },
    {
      "cell_type": "code",
      "source": [
        "# Code gets rid of the n's in our new columns and converts our columns data type into float\n",
        "pl22 = pl22.replace({'n': None})\n",
        "pl22[\"Home_Score\"] = pd.to_numeric(pl22[\"Home_Score\"])\n",
        "pl22[\"Away_Score\"] = pd.to_numeric(pl22[\"Away_Score\"])"
      ],
      "metadata": {
        "id": "syCZBtdpNc6p"
      },
      "execution_count": 11,
      "outputs": []
    },
    {
      "cell_type": "code",
      "source": [
        "#compares home and away scores columns to get result of the match.\n",
        "def get_result(row):\n",
        "  if row.Home_Score > row.Away_Score:\n",
        "    return \"H\"\n",
        "  elif row.Home_Score < row.Away_Score:\n",
        "    return \"A\"\n",
        "  elif row.Home_Score == row.Away_Score:\n",
        "    return \"D\"\n",
        "  else:\n",
        "    return None\n",
        "\n",
        "pl22[\"Result\"] = pl22.apply(get_result, axis = \"columns\")"
      ],
      "metadata": {
        "id": "_1MDeLsGNc00"
      },
      "execution_count": 12,
      "outputs": []
    },
    {
      "cell_type": "code",
      "source": [
        "#Here I can drop and reorganize the columns at the same time becuase of the small amount of them\n",
        "pl22 = pl22[['Wk', 'Day', 'Date', 'Time', 'Home', 'HxG','Home_Score', 'Away_Score', 'AxG', 'Away', \"Result\",\n",
        "       'Attendance', 'Venue', 'Referee', 'Notes']]"
      ],
      "metadata": {
        "id": "g4H1VJx_Nc99"
      },
      "execution_count": 13,
      "outputs": []
    },
    {
      "cell_type": "markdown",
      "source": [
        "# Data Visualization: Exploring Home Field Advantage"
      ],
      "metadata": {
        "id": "SpQsCOi-IqH4"
      }
    },
    {
      "cell_type": "code",
      "source": [
        "print(pl22.Home_Score.value_counts())\n",
        "print(pl22.Away_Score.value_counts())"
      ],
      "metadata": {
        "colab": {
          "base_uri": "https://localhost:8080/"
        },
        "id": "IGKq_Gx2aDjA",
        "outputId": "5144ae78-9f9f-4861-fa3a-bd174346c60a"
      },
      "execution_count": 15,
      "outputs": [
        {
          "output_type": "stream",
          "name": "stdout",
          "text": [
            "1.0    89\n",
            "0.0    78\n",
            "2.0    73\n",
            "3.0    38\n",
            "4.0    12\n",
            "5.0     5\n",
            "7.0     2\n",
            "6.0     2\n",
            "Name: Home_Score, dtype: int64\n",
            "1.0    101\n",
            "0.0     91\n",
            "2.0     58\n",
            "3.0     32\n",
            "4.0     13\n",
            "5.0      4\n",
            "Name: Away_Score, dtype: int64\n"
          ]
        }
      ]
    },
    {
      "cell_type": "code",
      "source": [
        "plt.hist([pl22.Home_Score, pl22.Away_Score], bins = 7, label=['Home', 'Away'])\n",
        "plt.legend(loc='upper right')\n",
        "plt.xlabel(\"Goal(s) scored in a game\")\n",
        "plt.ylabel(\"Frequency\")\n",
        "plt.title(\"Home vs Away Frequency of Goal Scored in a Game\")\n",
        "plt.rcParams[\"figure.figsize\"] = (12,8)\n",
        "plt.show()"
      ],
      "metadata": {
        "colab": {
          "base_uri": "https://localhost:8080/",
          "height": 513
        },
        "id": "drWBCpw8aDfX",
        "outputId": "c98e5383-f3c6-4320-8c10-d6d10446b598"
      },
      "execution_count": 18,
      "outputs": [
        {
          "output_type": "display_data",
          "data": {
            "text/plain": [
              "<Figure size 864x576 with 1 Axes>"
            ],
            "image/png": "[encoded data removed]"
          },
          "metadata": {
            "needs_background": "light"
          }
        }
      ]
    },
    {
      "cell_type": "code",
      "source": [
        "pl22.Result.value_counts().plot(kind = \"bar\")\n",
        "plt.ylabel(\"Frequency\")\n",
        "plt.xlabel(\"Winning Team\")\n",
        "plt.title(\"Frequency of Home Wins, Away Wins, and Draws\")"
      ],
      "metadata": {
        "colab": {
          "base_uri": "https://localhost:8080/",
          "height": 528
        },
        "id": "6AgxbY-iBMKb",
        "outputId": "5c05c0e4-9830-4c37-d3f1-fddb7782bb99"
      },
      "execution_count": 17,
      "outputs": [
        {
          "output_type": "execute_result",
          "data": {
            "text/plain": [
              "Text(0.5, 1.0, 'Frequency of Home Wins, Away Wins, and Draws')"
            ]
          },
          "metadata": {},
          "execution_count": 17
        },
        {
          "output_type": "display_data",
          "data": {
            "text/plain": [
              "<Figure size 864x576 with 1 Axes>"
            ],
            "image/png": "[encoded data removed]"
          },
          "metadata": {
            "needs_background": "light"
          }
        }
      ]
    },
    {
      "cell_type": "code",
      "source": [
        "label = ['Home Win', 'Away Win', 'Draw']\n",
        "plt.pie(pl22.Result.value_counts(),labels = label,autopct='%1.1f%%')\n",
        "plt.title('Pie Chart of Match Results')\n",
        "plt.axis('equal')\n",
        "plt.show()"
      ],
      "metadata": {
        "colab": {
          "base_uri": "https://localhost:8080/",
          "height": 482
        },
        "id": "EgMR8MX-HFhg",
        "outputId": "ac83952c-e08e-4220-edae-11737f0842bd"
      },
      "execution_count": 19,
      "outputs": [
        {
          "output_type": "display_data",
          "data": {
            "text/plain": [
              "<Figure size 864x576 with 1 Axes>"
            ],
            "image/png": "[encoded data removed]"
          },
          "metadata": {}
        }
      ]
    },
    {
      "cell_type": "code",
      "source": [
        "print(pl22.groupby(\"Home\").Home_Score.mean())\n",
        "print(pl22.groupby(\"Away\").Away_Score.mean())"
      ],
      "metadata": {
        "colab": {
          "base_uri": "https://localhost:8080/"
        },
        "id": "l4hj57uVFHyu",
        "outputId": "97f433b5-8fda-4333-e862-484146ed16d0"
      },
      "execution_count": 20,
      "outputs": [
        {
          "output_type": "stream",
          "name": "stdout",
          "text": [
            "Home\n",
            "Arsenal            1.600000\n",
            "Aston Villa        1.714286\n",
            "Brentford          1.066667\n",
            "Brighton           0.625000\n",
            "Burnley            0.866667\n",
            "Chelsea            2.071429\n",
            "Crystal Palace     1.562500\n",
            "Everton            1.357143\n",
            "Leeds United       1.125000\n",
            "Leicester City     1.714286\n",
            "Liverpool          2.600000\n",
            "Manchester City    2.857143\n",
            "Manchester Utd     1.562500\n",
            "Newcastle Utd      1.428571\n",
            "Norwich City       0.666667\n",
            "Southampton        1.333333\n",
            "Tottenham          2.066667\n",
            "Watford            1.000000\n",
            "West Ham           1.812500\n",
            "Wolves             1.125000\n",
            "Name: Home_Score, dtype: float64\n",
            "Away\n",
            "Arsenal            1.428571\n",
            "Aston Villa        1.125000\n",
            "Brentford          1.312500\n",
            "Brighton           1.142857\n",
            "Burnley            0.857143\n",
            "Chelsea            1.933333\n",
            "Crystal Palace     1.214286\n",
            "Everton            0.866667\n",
            "Leeds United       1.133333\n",
            "Leicester City     1.357143\n",
            "Liverpool          2.533333\n",
            "Manchester City    1.875000\n",
            "Manchester Utd     1.714286\n",
            "Newcastle Utd      0.812500\n",
            "Norwich City       0.533333\n",
            "Southampton        1.133333\n",
            "Tottenham          1.400000\n",
            "Watford            0.937500\n",
            "West Ham           1.466667\n",
            "Wolves             1.000000\n",
            "Name: Away_Score, dtype: float64\n"
          ]
        }
      ]
    },
    {
      "cell_type": "code",
      "source": [
        "X_axis = np.arange(len(teams))\n",
        "  \n",
        "plt.bar(X_axis - 0.2, pl22.groupby(\"Home\").Home_Score.mean(), 0.4, label = 'Home')\n",
        "plt.bar(X_axis + 0.2, pl22.groupby(\"Away\").Away_Score.mean(), 0.4, label = 'Away')\n",
        "  \n",
        "plt.xticks(X_axis, teams)\n",
        "plt.xlabel(\"Teams\")\n",
        "plt.ylabel(\"Average Goals per Game\")\n",
        "plt.title(\"Home vs. Away Average Goals Per For Every Team\")\n",
        "plt.rcParams[\"figure.figsize\"] = (30,15)\n",
        "plt.legend()\n",
        "plt.show()\n"
      ],
      "metadata": {
        "colab": {
          "base_uri": "https://localhost:8080/",
          "height": 592
        },
        "id": "mBc1GNhRwF26",
        "outputId": "b851e0fc-90c1-4ba9-c656-902f1f81158f"
      },
      "execution_count": 24,
      "outputs": [
        {
          "output_type": "display_data",
          "data": {
            "text/plain": [
              "<Figure size 2160x936 with 1 Axes>"
            ],
            "image/png": "[encoded data removed]"
          },
          "metadata": {
            "needs_background": "light"
          }
        }
      ]
    },
    {
      "cell_type": "markdown",
      "source": [
        "# Creating new columns for analysis and creating model."
      ],
      "metadata": {
        "id": "cgIgctkQ52qB"
      }
    },
    {
      "cell_type": "markdown",
      "source": [
        "## Creating New Features (Columns)"
      ],
      "metadata": {
        "id": "r-v6lOg61Isi"
      }
    },
    {
      "cell_type": "code",
      "source": [
        "#Create another data frame with fixtures that have already been played\n",
        "df1 = pl22[pl22[\"Home_Score\"].isnull() == False]\n",
        "#create a sorted team names array that will be usefull later\n",
        "teams = df1.Home.unique()\n",
        "teams = np.sort(teams)"
      ],
      "metadata": {
        "id": "LNj2ltcIJLFa"
      },
      "execution_count": 25,
      "outputs": []
    },
    {
      "cell_type": "code",
      "source": [
        "# these two functions will help retreive the home and away stats I create in future functions that return lists\n",
        "def hstat(stat):\n",
        "  return stat[0]\n",
        "\n",
        "def astat(stat):\n",
        "  return stat[1]"
      ],
      "metadata": {
        "id": "WtfBbS6SpSSW"
      },
      "execution_count": 26,
      "outputs": []
    },
    {
      "cell_type": "code",
      "source": [
        "games_played = {}\n",
        "for i in teams:\n",
        "  games_played[i] = 0\n",
        "\n",
        "\n",
        "def gp(row):\n",
        "# This function is doing two things:\n",
        "# 1) returning the home and away games played up before the match\n",
        "# 2) updating our dictionary to add increment games played after the match\n",
        "  h = games_played[row.Home]\n",
        "  a = games_played[row.Away]\n",
        "  games_played[row.Home] += 1\n",
        "  games_played[row.Away] += 1\n",
        "# I return a list in order to get points for both teams\n",
        "# I will need to split this list up into the two different columns later. \n",
        "  return [h,a]\n",
        "\n",
        "df1[\"gp\"] = df1.apply(gp, axis = \"columns\")\n",
        "\n",
        "df1[\"Home_gp\"] = df1[\"gp\"].apply(hstat)\n",
        "df1[\"Away_gp\"] = df1[\"gp\"].apply(astat)\n"
      ],
      "metadata": {
        "colab": {
          "base_uri": "https://localhost:8080/"
        },
        "id": "kzSmjMtTwtqA",
        "outputId": "f638a279-8e93-4564-ad36-bc8e3c6be15d"
      },
      "execution_count": 27,
      "outputs": [
        {
          "output_type": "stream",
          "name": "stderr",
          "text": [
            "/usr/local/lib/python3.7/dist-packages/ipykernel_launcher.py:18: SettingWithCopyWarning: \n",
            "A value is trying to be set on a copy of a slice from a DataFrame.\n",
            "Try using .loc[row_indexer,col_indexer] = value instead\n",
            "\n",
            "See the caveats in the documentation: https://pandas.pydata.org/pandas-docs/stable/user_guide/indexing.html#returning-a-view-versus-a-copy\n",
            "/usr/local/lib/python3.7/dist-packages/ipykernel_launcher.py:20: SettingWithCopyWarning: \n",
            "A value is trying to be set on a copy of a slice from a DataFrame.\n",
            "Try using .loc[row_indexer,col_indexer] = value instead\n",
            "\n",
            "See the caveats in the documentation: https://pandas.pydata.org/pandas-docs/stable/user_guide/indexing.html#returning-a-view-versus-a-copy\n",
            "/usr/local/lib/python3.7/dist-packages/ipykernel_launcher.py:21: SettingWithCopyWarning: \n",
            "A value is trying to be set on a copy of a slice from a DataFrame.\n",
            "Try using .loc[row_indexer,col_indexer] = value instead\n",
            "\n",
            "See the caveats in the documentation: https://pandas.pydata.org/pandas-docs/stable/user_guide/indexing.html#returning-a-view-versus-a-copy\n"
          ]
        }
      ]
    },
    {
      "cell_type": "code",
      "source": [
        "#creating an empty dictionary to keep track of the total points a certain team has\n",
        "team_pts = {}\n",
        "for i in teams:\n",
        "  team_pts[i] = 0\n",
        "\n",
        "\n",
        "def tpts(row):\n",
        "# This function is doing two things:\n",
        "# 1) returning the home and away points up before the match\n",
        "# 2) updating our dictionary to add the ponints received after the match\n",
        "  h = team_pts[row.Home]\n",
        "  a = team_pts[row.Away]\n",
        "  if row.Result == \"H\":\n",
        "    team_pts[row.Home] += 3\n",
        "  elif row.Result == \"A\":\n",
        "    team_pts[row.Away] += 3\n",
        "  elif row.Result == None:\n",
        "    return None\n",
        "  else:\n",
        "    team_pts[row.Home] += 1\n",
        "    team_pts[row.Away] += 1\n",
        "# I return a list in order to get points for both teams\n",
        "# I will need to split this list up into the two different columns later. \n",
        "  return [h,a]\n",
        "\n",
        "df1[\"pts\"] = df1.apply(tpts, axis = \"columns\")\n",
        "\n",
        "df1[\"Home_pts\"] = df1.pts.apply(hstat)\n",
        "df1[\"Away_pts\"] = df1.pts.apply(astat)"
      ],
      "metadata": {
        "id": "cEvNB1xonKEJ",
        "colab": {
          "base_uri": "https://localhost:8080/"
        },
        "outputId": "2d250daf-fe89-4578-89c6-3ba8df1cc5fd"
      },
      "execution_count": 28,
      "outputs": [
        {
          "output_type": "stream",
          "name": "stderr",
          "text": [
            "/usr/local/lib/python3.7/dist-packages/ipykernel_launcher.py:26: SettingWithCopyWarning: \n",
            "A value is trying to be set on a copy of a slice from a DataFrame.\n",
            "Try using .loc[row_indexer,col_indexer] = value instead\n",
            "\n",
            "See the caveats in the documentation: https://pandas.pydata.org/pandas-docs/stable/user_guide/indexing.html#returning-a-view-versus-a-copy\n",
            "/usr/local/lib/python3.7/dist-packages/ipykernel_launcher.py:28: SettingWithCopyWarning: \n",
            "A value is trying to be set on a copy of a slice from a DataFrame.\n",
            "Try using .loc[row_indexer,col_indexer] = value instead\n",
            "\n",
            "See the caveats in the documentation: https://pandas.pydata.org/pandas-docs/stable/user_guide/indexing.html#returning-a-view-versus-a-copy\n",
            "/usr/local/lib/python3.7/dist-packages/ipykernel_launcher.py:29: SettingWithCopyWarning: \n",
            "A value is trying to be set on a copy of a slice from a DataFrame.\n",
            "Try using .loc[row_indexer,col_indexer] = value instead\n",
            "\n",
            "See the caveats in the documentation: https://pandas.pydata.org/pandas-docs/stable/user_guide/indexing.html#returning-a-view-versus-a-copy\n"
          ]
        }
      ]
    },
    {
      "cell_type": "code",
      "source": [
        "df1[\"Home_ppg\"] = df1[\"Home_pts\"]/ df1[\"Home_gp\"]\n",
        "df1[\"Away_ppg\"] = df1[\"Away_pts\"]/ df1[\"Away_gp\"]\n",
        "\n",
        "df1[['Home_ppg', \"Away_ppg\"]] = df1[['Home_ppg', \"Away_ppg\"]].fillna(0)"
      ],
      "metadata": {
        "id": "izcoh_E7E1dV",
        "colab": {
          "base_uri": "https://localhost:8080/"
        },
        "outputId": "63962b98-92af-47fc-8cf7-27fbf303b674"
      },
      "execution_count": 29,
      "outputs": [
        {
          "output_type": "stream",
          "name": "stderr",
          "text": [
            "/usr/local/lib/python3.7/dist-packages/ipykernel_launcher.py:1: SettingWithCopyWarning: \n",
            "A value is trying to be set on a copy of a slice from a DataFrame.\n",
            "Try using .loc[row_indexer,col_indexer] = value instead\n",
            "\n",
            "See the caveats in the documentation: https://pandas.pydata.org/pandas-docs/stable/user_guide/indexing.html#returning-a-view-versus-a-copy\n",
            "  \"\"\"Entry point for launching an IPython kernel.\n",
            "/usr/local/lib/python3.7/dist-packages/ipykernel_launcher.py:2: SettingWithCopyWarning: \n",
            "A value is trying to be set on a copy of a slice from a DataFrame.\n",
            "Try using .loc[row_indexer,col_indexer] = value instead\n",
            "\n",
            "See the caveats in the documentation: https://pandas.pydata.org/pandas-docs/stable/user_guide/indexing.html#returning-a-view-versus-a-copy\n",
            "  \n",
            "/usr/local/lib/python3.7/dist-packages/pandas/core/frame.py:3641: SettingWithCopyWarning: \n",
            "A value is trying to be set on a copy of a slice from a DataFrame.\n",
            "Try using .loc[row_indexer,col_indexer] = value instead\n",
            "\n",
            "See the caveats in the documentation: https://pandas.pydata.org/pandas-docs/stable/user_guide/indexing.html#returning-a-view-versus-a-copy\n",
            "  self[k1] = value[k2]\n"
          ]
        }
      ]
    },
    {
      "cell_type": "code",
      "source": [
        "team_form = {}\n",
        "for i in teams:\n",
        "  team_form[i] = \"\"\n",
        "\n",
        "def form(row):\n",
        "  h = team_form[row.Home]\n",
        "  a = team_form[row.Away]\n",
        "  if row.Result == \"H\":\n",
        "    team_form[row.Home] += \"W\"\n",
        "    team_form[row.Away] += \"L\"\n",
        "  elif row.Result == \"A\":\n",
        "    team_form[row.Home] += \"L\"\n",
        "    team_form[row.Away] += \"W\"\n",
        "  else:\n",
        "    team_form[row.Home] += \"D\"\n",
        "    team_form[row.Away] += \"D\"\n",
        "  return [h[-5:],a[-5:]]\n",
        "\n",
        "df1[\"form\"] = df1.apply(form, axis = \"columns\")\n",
        "\n",
        "df1[\"Home_form\"] = df1.form.apply(hstat)\n",
        "df1[\"Away_form\"] = df1.form.apply(astat)"
      ],
      "metadata": {
        "id": "1ZNjI22CtSll",
        "colab": {
          "base_uri": "https://localhost:8080/"
        },
        "outputId": "cf7dda75-17fd-4580-8e56-9cd076022c83"
      },
      "execution_count": 30,
      "outputs": [
        {
          "output_type": "stream",
          "name": "stderr",
          "text": [
            "/usr/local/lib/python3.7/dist-packages/ipykernel_launcher.py:19: SettingWithCopyWarning: \n",
            "A value is trying to be set on a copy of a slice from a DataFrame.\n",
            "Try using .loc[row_indexer,col_indexer] = value instead\n",
            "\n",
            "See the caveats in the documentation: https://pandas.pydata.org/pandas-docs/stable/user_guide/indexing.html#returning-a-view-versus-a-copy\n",
            "/usr/local/lib/python3.7/dist-packages/ipykernel_launcher.py:21: SettingWithCopyWarning: \n",
            "A value is trying to be set on a copy of a slice from a DataFrame.\n",
            "Try using .loc[row_indexer,col_indexer] = value instead\n",
            "\n",
            "See the caveats in the documentation: https://pandas.pydata.org/pandas-docs/stable/user_guide/indexing.html#returning-a-view-versus-a-copy\n",
            "/usr/local/lib/python3.7/dist-packages/ipykernel_launcher.py:22: SettingWithCopyWarning: \n",
            "A value is trying to be set on a copy of a slice from a DataFrame.\n",
            "Try using .loc[row_indexer,col_indexer] = value instead\n",
            "\n",
            "See the caveats in the documentation: https://pandas.pydata.org/pandas-docs/stable/user_guide/indexing.html#returning-a-view-versus-a-copy\n"
          ]
        }
      ]
    },
    {
      "cell_type": "code",
      "source": [
        "# Here I create a dictionary to assign points to different results\n",
        "fp = {\"W\":3,\"D\":1,\"L\":0}\n",
        "\n",
        "# The function here gets the total form points from my form columns\n",
        "def formpts(form):\n",
        "  total = 0\n",
        "  for i in form:\n",
        "    total += fp[i]\n",
        "  return total\n",
        "\n",
        "df1[\"Away_fp\"] = df1[\"Away_form\"].apply(formpts)\n",
        "df1[\"Home_fp\"] = df1[\"Home_form\"].apply(formpts)"
      ],
      "metadata": {
        "id": "4u_w8bulSzjr",
        "colab": {
          "base_uri": "https://localhost:8080/"
        },
        "outputId": "77d9f0d2-6159-44db-b289-8c22990571ff"
      },
      "execution_count": 31,
      "outputs": [
        {
          "output_type": "stream",
          "name": "stderr",
          "text": [
            "/usr/local/lib/python3.7/dist-packages/ipykernel_launcher.py:11: SettingWithCopyWarning: \n",
            "A value is trying to be set on a copy of a slice from a DataFrame.\n",
            "Try using .loc[row_indexer,col_indexer] = value instead\n",
            "\n",
            "See the caveats in the documentation: https://pandas.pydata.org/pandas-docs/stable/user_guide/indexing.html#returning-a-view-versus-a-copy\n",
            "  # This is added back by InteractiveShellApp.init_path()\n",
            "/usr/local/lib/python3.7/dist-packages/ipykernel_launcher.py:12: SettingWithCopyWarning: \n",
            "A value is trying to be set on a copy of a slice from a DataFrame.\n",
            "Try using .loc[row_indexer,col_indexer] = value instead\n",
            "\n",
            "See the caveats in the documentation: https://pandas.pydata.org/pandas-docs/stable/user_guide/indexing.html#returning-a-view-versus-a-copy\n",
            "  if sys.path[0] == '':\n"
          ]
        }
      ]
    },
    {
      "cell_type": "code",
      "source": [
        "# With this dictionary I use arrays for my values.\n",
        "# This is to help keep track of the number of goals scored in each game.\n",
        "# It also helps when i want to calculate the means / tandard deviations\n",
        "gs = {}\n",
        "for i in teams:\n",
        "  gs[i] = np.array([])\n",
        "\n",
        "def goals(row):\n",
        "  h = gs[row.Home]\n",
        "  a = gs[row.Away]\n",
        "  gs[row.Home] = np.append(gs[row.Home],row.Home_Score)\n",
        "  gs[row.Away] = np.append(gs[row.Away],row.Away_Score) \n",
        "  return [h.sum(),a.sum()]\n",
        "\n",
        "df1[\"goals\"] = df1.apply(goals, axis = \"columns\")\n",
        "\n",
        "df1[\"Home_gs\"] = df1[\"goals\"].apply(hstat)\n",
        "df1[\"Away_gs\"] = df1[\"goals\"].apply(astat)"
      ],
      "metadata": {
        "id": "mJXptG4g8Lvk",
        "colab": {
          "base_uri": "https://localhost:8080/"
        },
        "outputId": "6e27c421-766e-4e1f-c76a-7826d16c753a"
      },
      "execution_count": 32,
      "outputs": [
        {
          "output_type": "stream",
          "name": "stderr",
          "text": [
            "/usr/local/lib/python3.7/dist-packages/ipykernel_launcher.py:15: SettingWithCopyWarning: \n",
            "A value is trying to be set on a copy of a slice from a DataFrame.\n",
            "Try using .loc[row_indexer,col_indexer] = value instead\n",
            "\n",
            "See the caveats in the documentation: https://pandas.pydata.org/pandas-docs/stable/user_guide/indexing.html#returning-a-view-versus-a-copy\n",
            "  from ipykernel import kernelapp as app\n",
            "/usr/local/lib/python3.7/dist-packages/ipykernel_launcher.py:17: SettingWithCopyWarning: \n",
            "A value is trying to be set on a copy of a slice from a DataFrame.\n",
            "Try using .loc[row_indexer,col_indexer] = value instead\n",
            "\n",
            "See the caveats in the documentation: https://pandas.pydata.org/pandas-docs/stable/user_guide/indexing.html#returning-a-view-versus-a-copy\n",
            "/usr/local/lib/python3.7/dist-packages/ipykernel_launcher.py:18: SettingWithCopyWarning: \n",
            "A value is trying to be set on a copy of a slice from a DataFrame.\n",
            "Try using .loc[row_indexer,col_indexer] = value instead\n",
            "\n",
            "See the caveats in the documentation: https://pandas.pydata.org/pandas-docs/stable/user_guide/indexing.html#returning-a-view-versus-a-copy\n"
          ]
        }
      ]
    },
    {
      "cell_type": "code",
      "source": [
        "df1[\"Home_gspg\"] = df1[\"Home_gs\"]/ df1[\"Home_gp\"]\n",
        "df1[\"Away_gspg\"] = df1[\"Away_gs\"]/ df1[\"Away_gp\"]\n",
        "\n",
        "df1[['Home_gspg', \"Away_gspg\"]] = df1[['Home_gspg', \"Away_gspg\"]].fillna(0)"
      ],
      "metadata": {
        "id": "izzL5uJ4FjJC",
        "colab": {
          "base_uri": "https://localhost:8080/"
        },
        "outputId": "4280be79-bb15-4d73-8f9e-9802d637d2e0"
      },
      "execution_count": 33,
      "outputs": [
        {
          "output_type": "stream",
          "name": "stderr",
          "text": [
            "/usr/local/lib/python3.7/dist-packages/ipykernel_launcher.py:1: SettingWithCopyWarning: \n",
            "A value is trying to be set on a copy of a slice from a DataFrame.\n",
            "Try using .loc[row_indexer,col_indexer] = value instead\n",
            "\n",
            "See the caveats in the documentation: https://pandas.pydata.org/pandas-docs/stable/user_guide/indexing.html#returning-a-view-versus-a-copy\n",
            "  \"\"\"Entry point for launching an IPython kernel.\n",
            "/usr/local/lib/python3.7/dist-packages/ipykernel_launcher.py:2: SettingWithCopyWarning: \n",
            "A value is trying to be set on a copy of a slice from a DataFrame.\n",
            "Try using .loc[row_indexer,col_indexer] = value instead\n",
            "\n",
            "See the caveats in the documentation: https://pandas.pydata.org/pandas-docs/stable/user_guide/indexing.html#returning-a-view-versus-a-copy\n",
            "  \n",
            "/usr/local/lib/python3.7/dist-packages/pandas/core/frame.py:3641: SettingWithCopyWarning: \n",
            "A value is trying to be set on a copy of a slice from a DataFrame.\n",
            "Try using .loc[row_indexer,col_indexer] = value instead\n",
            "\n",
            "See the caveats in the documentation: https://pandas.pydata.org/pandas-docs/stable/user_guide/indexing.html#returning-a-view-versus-a-copy\n",
            "  self[k1] = value[k2]\n"
          ]
        }
      ]
    },
    {
      "cell_type": "code",
      "source": [
        "# With this dictionary I use arrays for my values.\n",
        "# This is to help keep track of the number of goals scored in each game.\n",
        "# It also helps when i want to calculate the means / tandard deviations\n",
        "gc = {}\n",
        "for i in teams:\n",
        "  gc[i] = np.array([])\n",
        "\n",
        "def goals_conceded(row):\n",
        "  h = gc[row.Home]\n",
        "  a = gc[row.Away]\n",
        "  gc[row.Home] = np.append(gc[row.Home],row.Away_Score)\n",
        "  gc[row.Away] = np.append(gc[row.Away],row.Home_Score) \n",
        "  return [h.sum(),a.sum()]\n",
        "\n",
        "df1[\"gc\"] = df1.apply(goals_conceded, axis = \"columns\")\n",
        "\n",
        "df1[\"Home_gc\"] = df1[\"gc\"].apply(hstat)\n",
        "df1[\"Away_gc\"] = df1[\"gc\"].apply(astat)"
      ],
      "metadata": {
        "colab": {
          "base_uri": "https://localhost:8080/"
        },
        "id": "9BHXlfQ8XqSa",
        "outputId": "e97bf518-1c19-41c6-c5de-605af5443cab"
      },
      "execution_count": 34,
      "outputs": [
        {
          "output_type": "stream",
          "name": "stderr",
          "text": [
            "/usr/local/lib/python3.7/dist-packages/ipykernel_launcher.py:15: SettingWithCopyWarning: \n",
            "A value is trying to be set on a copy of a slice from a DataFrame.\n",
            "Try using .loc[row_indexer,col_indexer] = value instead\n",
            "\n",
            "See the caveats in the documentation: https://pandas.pydata.org/pandas-docs/stable/user_guide/indexing.html#returning-a-view-versus-a-copy\n",
            "  from ipykernel import kernelapp as app\n",
            "/usr/local/lib/python3.7/dist-packages/ipykernel_launcher.py:17: SettingWithCopyWarning: \n",
            "A value is trying to be set on a copy of a slice from a DataFrame.\n",
            "Try using .loc[row_indexer,col_indexer] = value instead\n",
            "\n",
            "See the caveats in the documentation: https://pandas.pydata.org/pandas-docs/stable/user_guide/indexing.html#returning-a-view-versus-a-copy\n",
            "/usr/local/lib/python3.7/dist-packages/ipykernel_launcher.py:18: SettingWithCopyWarning: \n",
            "A value is trying to be set on a copy of a slice from a DataFrame.\n",
            "Try using .loc[row_indexer,col_indexer] = value instead\n",
            "\n",
            "See the caveats in the documentation: https://pandas.pydata.org/pandas-docs/stable/user_guide/indexing.html#returning-a-view-versus-a-copy\n"
          ]
        }
      ]
    },
    {
      "cell_type": "code",
      "source": [
        "df1[\"Home_gcpg\"] = df1[\"Home_gc\"]/ df1[\"Home_gp\"]\n",
        "df1[\"Away_gcpg\"] = df1[\"Away_gc\"]/ df1[\"Away_gp\"]\n",
        "\n",
        "df1[['Home_gcpg', \"Away_gcpg\"]] = df1[['Home_gcpg', \"Away_gcpg\"]].fillna(0)"
      ],
      "metadata": {
        "colab": {
          "base_uri": "https://localhost:8080/"
        },
        "id": "kdSoFKKlYyEc",
        "outputId": "dad5ac3b-5948-4548-85b4-6c848916f743"
      },
      "execution_count": 35,
      "outputs": [
        {
          "output_type": "stream",
          "name": "stderr",
          "text": [
            "/usr/local/lib/python3.7/dist-packages/ipykernel_launcher.py:1: SettingWithCopyWarning: \n",
            "A value is trying to be set on a copy of a slice from a DataFrame.\n",
            "Try using .loc[row_indexer,col_indexer] = value instead\n",
            "\n",
            "See the caveats in the documentation: https://pandas.pydata.org/pandas-docs/stable/user_guide/indexing.html#returning-a-view-versus-a-copy\n",
            "  \"\"\"Entry point for launching an IPython kernel.\n",
            "/usr/local/lib/python3.7/dist-packages/ipykernel_launcher.py:2: SettingWithCopyWarning: \n",
            "A value is trying to be set on a copy of a slice from a DataFrame.\n",
            "Try using .loc[row_indexer,col_indexer] = value instead\n",
            "\n",
            "See the caveats in the documentation: https://pandas.pydata.org/pandas-docs/stable/user_guide/indexing.html#returning-a-view-versus-a-copy\n",
            "  \n",
            "/usr/local/lib/python3.7/dist-packages/pandas/core/frame.py:3641: SettingWithCopyWarning: \n",
            "A value is trying to be set on a copy of a slice from a DataFrame.\n",
            "Try using .loc[row_indexer,col_indexer] = value instead\n",
            "\n",
            "See the caveats in the documentation: https://pandas.pydata.org/pandas-docs/stable/user_guide/indexing.html#returning-a-view-versus-a-copy\n",
            "  self[k1] = value[k2]\n"
          ]
        }
      ]
    },
    {
      "cell_type": "code",
      "source": [
        "# Dropping and Re-arranging columns\n",
        "df1 = df1[['Wk', 'Day', 'Date', 'Time', 'Home', 'HxG', 'Home_Score', 'Away_Score',\n",
        "       'AxG', 'Away', 'Result', 'Attendance', 'Venue', 'Referee', 'Home_gp', 'Away_gp', 'Home_pts', 'Away_pts',\n",
        "       'Home_ppg', 'Away_ppg','Home_form', 'Away_form', 'Home_fp',\n",
        "       'Away_fp','Home_gs', 'Away_gs', 'Home_gc', 'Away_gc', \"Home_gspg\", \"Away_gspg\", 'Home_gcpg', \"Away_gcpg\"]]"
      ],
      "metadata": {
        "id": "M3oBtvcTBoXU"
      },
      "execution_count": 36,
      "outputs": []
    },
    {
      "cell_type": "code",
      "source": [
        "df1[df1.Result == \"D\"]"
      ],
      "metadata": {
        "colab": {
          "base_uri": "https://localhost:8080/",
          "height": 641
        },
        "id": "owkIxp2iJxjL",
        "outputId": "ffaf228a-d4ed-4c74-a8b5-3593663a8612"
      },
      "execution_count": 37,
      "outputs": [
        {
          "output_type": "execute_result",
          "data": {
            "text/plain": [
              "       Wk  Day       Date   Time            Home  HxG  Home_Score  Away_Score  \\\n",
              "14    2.0  Sat 2021-08-21  15:00    Leeds United  1.5         2.0         2.0   \n",
              "15    2.0  Sat 2021-08-21  15:00  Crystal Palace  0.6         0.0         0.0   \n",
              "18    2.0  Sun 2021-08-22  14:00     Southampton  0.8         1.0         1.0   \n",
              "24    3.0  Sat 2021-08-28  15:00        West Ham  1.2         2.0         2.0   \n",
              "25    3.0  Sat 2021-08-28  15:00     Aston Villa  0.6         1.0         1.0   \n",
              "..    ...  ...        ...    ...             ...  ...         ...         ...   \n",
              "286  27.0  Sat 2022-02-26  15:00  Manchester Utd  2.9         0.0         0.0   \n",
              "322  29.0  Mon 2022-03-14  20:00  Crystal Palace  0.8         0.0         0.0   \n",
              "337  31.0  Sat 2022-04-02  15:00    Leeds United  1.1         1.0         1.0   \n",
              "340  31.0  Sat 2022-04-02  15:00        Brighton  2.8         0.0         0.0   \n",
              "341  31.0  Sat 2022-04-02  17:30  Manchester Utd  1.4         1.0         1.0   \n",
              "\n",
              "     AxG             Away  ... Home_fp  Away_fp Home_gs Away_gs  Home_gc  \\\n",
              "14   2.0          Everton  ...       0        3     1.0     3.0      5.0   \n",
              "15   0.9        Brentford  ...       0        3     0.0     2.0      3.0   \n",
              "18   1.4   Manchester Utd  ...       0        3     1.0     5.0      3.0   \n",
              "24   0.7   Crystal Palace  ...       6        1     8.0     0.0      3.0   \n",
              "25   1.1        Brentford  ...       3        4     4.0     2.0      3.0   \n",
              "..   ...              ...  ...     ...      ...     ...     ...      ...   \n",
              "286  0.5          Watford  ...      11        4    44.0    25.0     34.0   \n",
              "322  2.3  Manchester City  ...       8       12    39.0    68.0     38.0   \n",
              "337  1.7      Southampton  ...       6        6    34.0    36.0     67.0   \n",
              "340  0.3     Norwich City  ...       0        0    26.0    18.0     36.0   \n",
              "341  0.9   Leicester City  ...      10        9    48.0    42.0     40.0   \n",
              "\n",
              "     Away_gc  Home_gspg  Away_gspg  Home_gcpg  Away_gcpg  \n",
              "14       1.0   1.000000   3.000000   5.000000   1.000000  \n",
              "15       0.0   0.000000   2.000000   3.000000   0.000000  \n",
              "18       1.0   1.000000   5.000000   3.000000   1.000000  \n",
              "24       3.0   4.000000   0.000000   1.500000   1.500000  \n",
              "25       0.0   2.000000   1.000000   1.500000   0.000000  \n",
              "..       ...        ...        ...        ...        ...  \n",
              "286     47.0   1.692308   1.000000   1.307692   1.880000  \n",
              "322     18.0   1.392857   2.428571   1.357143   0.642857  \n",
              "337     45.0   1.133333   1.241379   2.233333   1.551724  \n",
              "340     63.0   0.896552   0.620690   1.241379   2.172414  \n",
              "341     46.0   1.655172   1.555556   1.379310   1.703704  \n",
              "\n",
              "[71 rows x 32 columns]"
            ],
            "text/html": [
              "\n",
              "  <div id=\"df-5de92d8d-d798-47e2-a98f-52e92c642245\">\n",
              "    <div class=\"colab-df-container\">\n",
              "      <div>\n",
              "<style scoped>\n",
              "    .dataframe tbody tr th:only-of-type {\n",
              "        vertical-align: middle;\n",
              "    }\n",
              "\n",
              "    .dataframe tbody tr th {\n",
              "        vertical-align: top;\n",
              "    }\n",
              "\n",
              "    .dataframe thead th {\n",
              "        text-align: right;\n",
              "    }\n",
              "</style>\n",
              "<table border=\"1\" class=\"dataframe\">\n",
              "  <thead>\n",
              "    <tr style=\"text-align: right;\">\n",
              "      <th></th>\n",
              "      <th>Wk</th>\n",
              "      <th>Day</th>\n",
              "      <th>Date</th>\n",
              "      <th>Time</th>\n",
              "      <th>Home</th>\n",
              "      <th>HxG</th>\n",
              "      <th>Home_Score</th>\n",
              "      <th>Away_Score</th>\n",
              "      <th>AxG</th>\n",
              "      <th>Away</th>\n",
              "      <th>...</th>\n",
              "      <th>Home_fp</th>\n",
              "      <th>Away_fp</th>\n",
              "      <th>Home_gs</th>\n",
              "      <th>Away_gs</th>\n",
              "      <th>Home_gc</th>\n",
              "      <th>Away_gc</th>\n",
              "      <th>Home_gspg</th>\n",
              "      <th>Away_gspg</th>\n",
              "      <th>Home_gcpg</th>\n",
              "      <th>Away_gcpg</th>\n",
              "    </tr>\n",
              "  </thead>\n",
              "  <tbody>\n",
              "    <tr>\n",
              "      <th>14</th>\n",
              "      <td>2.0</td>\n",
              "      <td>Sat</td>\n",
              "      <td>2021-08-21</td>\n",
              "      <td>15:00</td>\n",
              "      <td>Leeds United</td>\n",
              "      <td>1.5</td>\n",
              "      <td>2.0</td>\n",
              "      <td>2.0</td>\n",
              "      <td>2.0</td>\n",
              "      <td>Everton</td>\n",
              "      <td>...</td>\n",
              "      <td>0</td>\n",
              "      <td>3</td>\n",
              "      <td>1.0</td>\n",
              "      <td>3.0</td>\n",
              "      <td>5.0</td>\n",
              "      <td>1.0</td>\n",
              "      <td>1.000000</td>\n",
              "      <td>3.000000</td>\n",
              "      <td>5.000000</td>\n",
              "      <td>1.000000</td>\n",
              "    </tr>\n",
              "    <tr>\n",
              "      <th>15</th>\n",
              "      <td>2.0</td>\n",
              "      <td>Sat</td>\n",
              "      <td>2021-08-21</td>\n",
              "      <td>15:00</td>\n",
              "      <td>Crystal Palace</td>\n",
              "      <td>0.6</td>\n",
              "      <td>0.0</td>\n",
              "      <td>0.0</td>\n",
              "      <td>0.9</td>\n",
              "      <td>Brentford</td>\n",
              "      <td>...</td>\n",
              "      <td>0</td>\n",
              "      <td>3</td>\n",
              "      <td>0.0</td>\n",
              "      <td>2.0</td>\n",
              "      <td>3.0</td>\n",
              "      <td>0.0</td>\n",
              "      <td>0.000000</td>\n",
              "      <td>2.000000</td>\n",
              "      <td>3.000000</td>\n",
              "      <td>0.000000</td>\n",
              "    </tr>\n",
              "    <tr>\n",
              "      <th>18</th>\n",
              "      <td>2.0</td>\n",
              "      <td>Sun</td>\n",
              "      <td>2021-08-22</td>\n",
              "      <td>14:00</td>\n",
              "      <td>Southampton</td>\n",
              "      <td>0.8</td>\n",
              "      <td>1.0</td>\n",
              "      <td>1.0</td>\n",
              "      <td>1.4</td>\n",
              "      <td>Manchester Utd</td>\n",
              "      <td>...</td>\n",
              "      <td>0</td>\n",
              "      <td>3</td>\n",
              "      <td>1.0</td>\n",
              "      <td>5.0</td>\n",
              "      <td>3.0</td>\n",
              "      <td>1.0</td>\n",
              "      <td>1.000000</td>\n",
              "      <td>5.000000</td>\n",
              "      <td>3.000000</td>\n",
              "      <td>1.000000</td>\n",
              "    </tr>\n",
              "    <tr>\n",
              "      <th>24</th>\n",
              "      <td>3.0</td>\n",
              "      <td>Sat</td>\n",
              "      <td>2021-08-28</td>\n",
              "      <td>15:00</td>\n",
              "      <td>West Ham</td>\n",
              "      <td>1.2</td>\n",
              "      <td>2.0</td>\n",
              "      <td>2.0</td>\n",
              "      <td>0.7</td>\n",
              "      <td>Crystal Palace</td>\n",
              "      <td>...</td>\n",
              "      <td>6</td>\n",
              "      <td>1</td>\n",
              "      <td>8.0</td>\n",
              "      <td>0.0</td>\n",
              "      <td>3.0</td>\n",
              "      <td>3.0</td>\n",
              "      <td>4.000000</td>\n",
              "      <td>0.000000</td>\n",
              "      <td>1.500000</td>\n",
              "      <td>1.500000</td>\n",
              "    </tr>\n",
              "    <tr>\n",
              "      <th>25</th>\n",
              "      <td>3.0</td>\n",
              "      <td>Sat</td>\n",
              "      <td>2021-08-28</td>\n",
              "      <td>15:00</td>\n",
              "      <td>Aston Villa</td>\n",
              "      <td>0.6</td>\n",
              "      <td>1.0</td>\n",
              "      <td>1.0</td>\n",
              "      <td>1.1</td>\n",
              "      <td>Brentford</td>\n",
              "      <td>...</td>\n",
              "      <td>3</td>\n",
              "      <td>4</td>\n",
              "      <td>4.0</td>\n",
              "      <td>2.0</td>\n",
              "      <td>3.0</td>\n",
              "      <td>0.0</td>\n",
              "      <td>2.000000</td>\n",
              "      <td>1.000000</td>\n",
              "      <td>1.500000</td>\n",
              "      <td>0.000000</td>\n",
              "    </tr>\n",
              "    <tr>\n",
              "      <th>...</th>\n",
              "      <td>...</td>\n",
              "      <td>...</td>\n",
              "      <td>...</td>\n",
              "      <td>...</td>\n",
              "      <td>...</td>\n",
              "      <td>...</td>\n",
              "      <td>...</td>\n",
              "      <td>...</td>\n",
              "      <td>...</td>\n",
              "      <td>...</td>\n",
              "      <td>...</td>\n",
              "      <td>...</td>\n",
              "      <td>...</td>\n",
              "      <td>...</td>\n",
              "      <td>...</td>\n",
              "      <td>...</td>\n",
              "      <td>...</td>\n",
              "      <td>...</td>\n",
              "      <td>...</td>\n",
              "      <td>...</td>\n",
              "      <td>...</td>\n",
              "    </tr>\n",
              "    <tr>\n",
              "      <th>286</th>\n",
              "      <td>27.0</td>\n",
              "      <td>Sat</td>\n",
              "      <td>2022-02-26</td>\n",
              "      <td>15:00</td>\n",
              "      <td>Manchester Utd</td>\n",
              "      <td>2.9</td>\n",
              "      <td>0.0</td>\n",
              "      <td>0.0</td>\n",
              "      <td>0.5</td>\n",
              "      <td>Watford</td>\n",
              "      <td>...</td>\n",
              "      <td>11</td>\n",
              "      <td>4</td>\n",
              "      <td>44.0</td>\n",
              "      <td>25.0</td>\n",
              "      <td>34.0</td>\n",
              "      <td>47.0</td>\n",
              "      <td>1.692308</td>\n",
              "      <td>1.000000</td>\n",
              "      <td>1.307692</td>\n",
              "      <td>1.880000</td>\n",
              "    </tr>\n",
              "    <tr>\n",
              "      <th>322</th>\n",
              "      <td>29.0</td>\n",
              "      <td>Mon</td>\n",
              "      <td>2022-03-14</td>\n",
              "      <td>20:00</td>\n",
              "      <td>Crystal Palace</td>\n",
              "      <td>0.8</td>\n",
              "      <td>0.0</td>\n",
              "      <td>0.0</td>\n",
              "      <td>2.3</td>\n",
              "      <td>Manchester City</td>\n",
              "      <td>...</td>\n",
              "      <td>8</td>\n",
              "      <td>12</td>\n",
              "      <td>39.0</td>\n",
              "      <td>68.0</td>\n",
              "      <td>38.0</td>\n",
              "      <td>18.0</td>\n",
              "      <td>1.392857</td>\n",
              "      <td>2.428571</td>\n",
              "      <td>1.357143</td>\n",
              "      <td>0.642857</td>\n",
              "    </tr>\n",
              "    <tr>\n",
              "      <th>337</th>\n",
              "      <td>31.0</td>\n",
              "      <td>Sat</td>\n",
              "      <td>2022-04-02</td>\n",
              "      <td>15:00</td>\n",
              "      <td>Leeds United</td>\n",
              "      <td>1.1</td>\n",
              "      <td>1.0</td>\n",
              "      <td>1.0</td>\n",
              "      <td>1.7</td>\n",
              "      <td>Southampton</td>\n",
              "      <td>...</td>\n",
              "      <td>6</td>\n",
              "      <td>6</td>\n",
              "      <td>34.0</td>\n",
              "      <td>36.0</td>\n",
              "      <td>67.0</td>\n",
              "      <td>45.0</td>\n",
              "      <td>1.133333</td>\n",
              "      <td>1.241379</td>\n",
              "      <td>2.233333</td>\n",
              "      <td>1.551724</td>\n",
              "    </tr>\n",
              "    <tr>\n",
              "      <th>340</th>\n",
              "      <td>31.0</td>\n",
              "      <td>Sat</td>\n",
              "      <td>2022-04-02</td>\n",
              "      <td>15:00</td>\n",
              "      <td>Brighton</td>\n",
              "      <td>2.8</td>\n",
              "      <td>0.0</td>\n",
              "      <td>0.0</td>\n",
              "      <td>0.3</td>\n",
              "      <td>Norwich City</td>\n",
              "      <td>...</td>\n",
              "      <td>0</td>\n",
              "      <td>0</td>\n",
              "      <td>26.0</td>\n",
              "      <td>18.0</td>\n",
              "      <td>36.0</td>\n",
              "      <td>63.0</td>\n",
              "      <td>0.896552</td>\n",
              "      <td>0.620690</td>\n",
              "      <td>1.241379</td>\n",
              "      <td>2.172414</td>\n",
              "    </tr>\n",
              "    <tr>\n",
              "      <th>341</th>\n",
              "      <td>31.0</td>\n",
              "      <td>Sat</td>\n",
              "      <td>2022-04-02</td>\n",
              "      <td>17:30</td>\n",
              "      <td>Manchester Utd</td>\n",
              "      <td>1.4</td>\n",
              "      <td>1.0</td>\n",
              "      <td>1.0</td>\n",
              "      <td>0.9</td>\n",
              "      <td>Leicester City</td>\n",
              "      <td>...</td>\n",
              "      <td>10</td>\n",
              "      <td>9</td>\n",
              "      <td>48.0</td>\n",
              "      <td>42.0</td>\n",
              "      <td>40.0</td>\n",
              "      <td>46.0</td>\n",
              "      <td>1.655172</td>\n",
              "      <td>1.555556</td>\n",
              "      <td>1.379310</td>\n",
              "      <td>1.703704</td>\n",
              "    </tr>\n",
              "  </tbody>\n",
              "</table>\n",
              "<p>71 rows × 32 columns</p>\n",
              "</div>\n",
              "      <button class=\"colab-df-convert\" onclick=\"convertToInteractive('df-5de92d8d-d798-47e2-a98f-52e92c642245')\"\n",
              "              title=\"Convert this dataframe to an interactive table.\"\n",
              "              style=\"display:none;\">\n",
              "        \n",
              "  <svg xmlns=\"http://www.w3.org/2000/svg\" height=\"24px\"viewBox=\"0 0 24 24\"\n",
              "       width=\"24px\">\n",
              "    <path d=\"M0 0h24v24H0V0z\" fill=\"none\"/>\n",
              "    <path d=\"M18.56 5.44l.94 2.06.94-2.06 2.06-.94-2.06-.94-.94-2.06-.94 2.06-2.06.94zm-11 1L8.5 8.5l.94-2.06 2.06-.94-2.06-.94L8.5 2.5l-.94 2.06-2.06.94zm10 10l.94 2.06.94-2.06 2.06-.94-2.06-.94-.94-2.06-.94 2.06-2.06.94z\"/><path d=\"M17.41 7.96l-1.37-1.37c-.4-.4-.92-.59-1.43-.59-.52 0-1.04.2-1.43.59L10.3 9.45l-7.72 7.72c-.78.78-.78 2.05 0 2.83L4 21.41c.39.39.9.59 1.41.59.51 0 1.02-.2 1.41-.59l7.78-7.78 2.81-2.81c.8-.78.8-2.07 0-2.86zM5.41 20L4 18.59l7.72-7.72 1.47 1.35L5.41 20z\"/>\n",
              "  </svg>\n",
              "      </button>\n",
              "      \n",
              "  <style>\n",
              "    .colab-df-container {\n",
              "      display:flex;\n",
              "      flex-wrap:wrap;\n",
              "      gap: 12px;\n",
              "    }\n",
              "\n",
              "    .colab-df-convert {\n",
              "      background-color: #E8F0FE;\n",
              "      border: none;\n",
              "      border-radius: 50%;\n",
              "      cursor: pointer;\n",
              "      display: none;\n",
              "      fill: #1967D2;\n",
              "      height: 32px;\n",
              "      padding: 0 0 0 0;\n",
              "      width: 32px;\n",
              "    }\n",
              "\n",
              "    .colab-df-convert:hover {\n",
              "      background-color: #E2EBFA;\n",
              "      box-shadow: 0px 1px 2px rgba(60, 64, 67, 0.3), 0px 1px 3px 1px rgba(60, 64, 67, 0.15);\n",
              "      fill: #174EA6;\n",
              "    }\n",
              "\n",
              "    [theme=dark] .colab-df-convert {\n",
              "      background-color: #3B4455;\n",
              "      fill: #D2E3FC;\n",
              "    }\n",
              "\n",
              "    [theme=dark] .colab-df-convert:hover {\n",
              "      background-color: #434B5C;\n",
              "      box-shadow: 0px 1px 3px 1px rgba(0, 0, 0, 0.15);\n",
              "      filter: drop-shadow(0px 1px 2px rgba(0, 0, 0, 0.3));\n",
              "      fill: #FFFFFF;\n",
              "    }\n",
              "  </style>\n",
              "\n",
              "      <script>\n",
              "        const buttonEl =\n",
              "          document.querySelector('#df-5de92d8d-d798-47e2-a98f-52e92c642245 button.colab-df-convert');\n",
              "        buttonEl.style.display =\n",
              "          google.colab.kernel.accessAllowed ? 'block' : 'none';\n",
              "\n",
              "        async function convertToInteractive(key) {\n",
              "          const element = document.querySelector('#df-5de92d8d-d798-47e2-a98f-52e92c642245');\n",
              "          const dataTable =\n",
              "            await google.colab.kernel.invokeFunction('convertToInteractive',\n",
              "                                                     [key], {});\n",
              "          if (!dataTable) return;\n",
              "\n",
              "          const docLinkHtml = 'Like what you see? Visit the ' +\n",
              "            '<a target=\"_blank\" href=https://colab.research.google.com/notebooks/data_table.ipynb>data table notebook</a>'\n",
              "            + ' to learn more about interactive tables.';\n",
              "          element.innerHTML = '';\n",
              "          dataTable['output_type'] = 'display_data';\n",
              "          await google.colab.output.renderOutput(dataTable, element);\n",
              "          const docLink = document.createElement('div');\n",
              "          docLink.innerHTML = docLinkHtml;\n",
              "          element.appendChild(docLink);\n",
              "        }\n",
              "      </script>\n",
              "    </div>\n",
              "  </div>\n",
              "  "
            ]
          },
          "metadata": {},
          "execution_count": 37
        }
      ]
    },
    {
      "cell_type": "code",
      "source": [
        "df1.to_excel(\"premier_league.xlsx\")"
      ],
      "metadata": {
        "id": "eKUNeLxGVvFC"
      },
      "execution_count": 38,
      "outputs": []
    },
    {
      "cell_type": "markdown",
      "source": [
        "## Creating Logistic Regression Model"
      ],
      "metadata": {
        "id": "w_fUQUtZ1QTr"
      }
    },
    {
      "cell_type": "code",
      "source": [
        "y = df1.Result"
      ],
      "metadata": {
        "id": "J3_fUABWbW2L"
      },
      "execution_count": 39,
      "outputs": []
    },
    {
      "cell_type": "code",
      "source": [
        "features = ['Home_ppg', 'Away_ppg', 'Home_fp', 'Away_fp', 'Home_gspg', 'Away_gspg', 'Home_gcpg', \"Away_gcpg\"]"
      ],
      "metadata": {
        "id": "9-bynBK6kqie"
      },
      "execution_count": 40,
      "outputs": []
    },
    {
      "cell_type": "code",
      "source": [
        "x = df1[features]"
      ],
      "metadata": {
        "id": "09kMimIilRDT"
      },
      "execution_count": 41,
      "outputs": []
    },
    {
      "cell_type": "code",
      "source": [
        "clf = LogisticRegression(random_state=0).fit(x, y)"
      ],
      "metadata": {
        "id": "1nLtziYLlUTo",
        "colab": {
          "base_uri": "https://localhost:8080/"
        },
        "outputId": "0cab1677-b245-4913-c7de-534056d17639"
      },
      "execution_count": 42,
      "outputs": [
        {
          "output_type": "stream",
          "name": "stderr",
          "text": [
            "/usr/local/lib/python3.7/dist-packages/sklearn/linear_model/_logistic.py:818: ConvergenceWarning: lbfgs failed to converge (status=1):\n",
            "STOP: TOTAL NO. of ITERATIONS REACHED LIMIT.\n",
            "\n",
            "Increase the number of iterations (max_iter) or scale the data as shown in:\n",
            "    https://scikit-learn.org/stable/modules/preprocessing.html\n",
            "Please also refer to the documentation for alternative solver options:\n",
            "    https://scikit-learn.org/stable/modules/linear_model.html#logistic-regression\n",
            "  extra_warning_msg=_LOGISTIC_SOLVER_CONVERGENCE_MSG,\n"
          ]
        }
      ]
    },
    {
      "cell_type": "code",
      "source": [
        "def predict_game(hteam, ateam):\n",
        "  lst = [team_pts[hteam]/games_played[hteam],\n",
        "              team_pts[ateam]/games_played[ateam], \n",
        "              formpts(team_form[hteam][-5:]), \n",
        "              formpts(team_form[ateam][-5:]), \n",
        "              sum(gs[hteam])/games_played[hteam], \n",
        "              sum(gs[ateam])/games_played[ateam],\n",
        "              sum(gc[hteam])/games_played[hteam], \n",
        "              sum(gc[ateam])/games_played[ateam]\n",
        "              ]\n",
        "  return clf.predict(np.array([lst]))[0]"
      ],
      "metadata": {
        "id": "mQQ0GBRZa3ca"
      },
      "execution_count": 43,
      "outputs": []
    },
    {
      "cell_type": "code",
      "source": [
        "teams"
      ],
      "metadata": {
        "colab": {
          "base_uri": "https://localhost:8080/"
        },
        "id": "ugALES7MdzFH",
        "outputId": "2cccad20-43ab-4520-9eb3-73dde0389ca0"
      },
      "execution_count": 44,
      "outputs": [
        {
          "output_type": "execute_result",
          "data": {
            "text/plain": [
              "array(['Arsenal', 'Aston Villa', 'Brentford', 'Brighton', 'Burnley',\n",
              "       'Chelsea', 'Crystal Palace', 'Everton', 'Leeds United',\n",
              "       'Leicester City', 'Liverpool', 'Manchester City', 'Manchester Utd',\n",
              "       'Newcastle Utd', 'Norwich City', 'Southampton', 'Tottenham',\n",
              "       'Watford', 'West Ham', 'Wolves'], dtype=object)"
            ]
          },
          "metadata": {},
          "execution_count": 44
        }
      ]
    },
    {
      "cell_type": "code",
      "source": [
        "predict_game(\"Crystal Palace\", \"Tottenham\")"
      ],
      "metadata": {
        "colab": {
          "base_uri": "https://localhost:8080/",
          "height": 91
        },
        "id": "1hUooYhgT-r-",
        "outputId": "53b70de0-db32-4f94-e05a-6091f1151aff"
      },
      "execution_count": 45,
      "outputs": [
        {
          "output_type": "stream",
          "name": "stderr",
          "text": [
            "/usr/local/lib/python3.7/dist-packages/sklearn/base.py:451: UserWarning: X does not have valid feature names, but LogisticRegression was fitted with feature names\n",
            "  \"X does not have valid feature names, but\"\n"
          ]
        },
        {
          "output_type": "execute_result",
          "data": {
            "text/plain": [
              "'H'"
            ],
            "application/vnd.google.colaboratory.intrinsic+json": {
              "type": "string"
            }
          },
          "metadata": {},
          "execution_count": 45
        }
      ]
    }
  ]
}
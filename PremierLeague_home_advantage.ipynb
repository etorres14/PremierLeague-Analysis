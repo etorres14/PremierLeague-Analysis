{
  "nbformat": 4,
  "nbformat_minor": 0,
  "metadata": {
    "colab": {
      "name": "PremierLeague_home_advantage.ipynb",
      "provenance": [],
      "collapsed_sections": [
        "E0n1hFRYM2P_",
        "cgIgctkQ52qB",
        "r-v6lOg61Isi",
        "w_fUQUtZ1QTr"
      ],
      "toc_visible": true,
      "authorship_tag": "ABX9TyM/hLbBlO4y4LMl2ZHtS9yX",
      "include_colab_link": true
    },
    "kernelspec": {
      "name": "python3",
      "display_name": "Python 3"
    },
    "language_info": {
      "name": "python"
    }
  },
  "cells": [
    {
      "cell_type": "markdown",
      "metadata": {
        "id": "view-in-github",
        "colab_type": "text"
      },
      "source": [
        "<a href=\"https://colab.research.google.com/github/etorres14/PremierLeague-Analysis/blob/main/PremierLeague_home_advantage.ipynb\" target=\"_parent\"><img src=\"https://colab.research.google.com/assets/colab-badge.svg\" alt=\"Open In Colab\"/></a>"
      ]
    },
    {
      "cell_type": "markdown",
      "source": [
        "# Premier League: Predicting Match Restults\n",
        "\n",
        "### Edward Torres"
      ],
      "metadata": {
        "id": "1YzgJP8SGFFN"
      }
    },
    {
      "cell_type": "markdown",
      "source": [
        "## Objective\n",
        "\n",
        "Using Premier League match fixutre data, I want to explore the importance of home field advantage. Furthermore I want to create new columns/features to generate a model to predict match results. "
      ],
      "metadata": {
        "id": "h8FwtlF8GT7b"
      }
    },
    {
      "cell_type": "markdown",
      "source": [
        "## Table of Contents\n",
        "---\n",
        "\n",
        "\n",
        "\n",
        "*   Load Dependencies/Data\n",
        "*   Clean Data\n",
        "*   Data Visualization\n",
        "*   Feature Creation\n",
        "*   Building Model\n",
        "\n",
        "\n",
        "\n",
        "\n",
        "\n"
      ],
      "metadata": {
        "id": "mAA3jBGJGYoW"
      }
    },
    {
      "cell_type": "code",
      "source": [
        "#Import Dependencies\n",
        "import pandas as pd\n",
        "import matplotlib.pyplot as plt\n",
        "import numpy as np\n",
        "from sklearn.linear_model import LogisticRegression\n",
        "import time"
      ],
      "metadata": {
        "id": "OH_NYa2gMraP"
      },
      "execution_count": 1,
      "outputs": []
    },
    {
      "cell_type": "code",
      "source": [
        "# Get Data\n",
        "def get_data(url):\n",
        "  time.sleep(2)\n",
        "  df = pd.read_html(url, header = 0)\n",
        "  return df[0]\n",
        "\n",
        "pl18 = get_data(\"https://fbref.com/en/comps/9/1631/schedule/2017-2018-Premier-League-Scores-and-Fixtures\")\n",
        "pl19 = get_data(\"https://fbref.com/en/comps/9/1889/schedule/2018-2019-Premier-League-Scores-and-Fixtures\")\n",
        "pl20 = get_data(\"https://fbref.com/en/comps/9/3232/schedule/2019-2020-Premier-League-Scores-and-Fixtures\")\n",
        "pl21 = get_data(\"https://fbref.com/en/comps/9/10728/schedule/2020-2021-Premier-League-Scores-and-Fixtures\")\n",
        "pl22 = get_data(\"https://fbref.com/en/comps/9/schedule/Premier-League-Scores-and-Fixtures\")"
      ],
      "metadata": {
        "id": "pWPUeo2ymJuU"
      },
      "execution_count": 2,
      "outputs": []
    },
    {
      "cell_type": "markdown",
      "source": [
        "## Basic Data Cleaning\n",
        "---"
      ],
      "metadata": {
        "id": "E0n1hFRYM2P_"
      }
    },
    {
      "cell_type": "code",
      "source": [
        "pl22.head(3)"
      ],
      "metadata": {
        "colab": {
          "base_uri": "https://localhost:8080/",
          "height": 308
        },
        "id": "WC7knbq-MgxL",
        "outputId": "0fd5ff12-3b1d-4518-c784-76e9d4c3c9b1"
      },
      "execution_count": 3,
      "outputs": [
        {
          "output_type": "execute_result",
          "data": {
            "text/plain": [
              "    Wk  Day        Date   Time            Home   xG Score  xG.1          Away  \\\n",
              "0  1.0  Fri  2021-08-13  20:00       Brentford  1.3   2–0   1.4       Arsenal   \n",
              "1  1.0  Sat  2021-08-14  12:30  Manchester Utd  1.5   5–1   0.6  Leeds United   \n",
              "2  1.0  Sat  2021-08-14  15:00  Leicester City  0.8   1–0   1.1        Wolves   \n",
              "\n",
              "   Attendance                        Venue         Referee  Match Report  \\\n",
              "0     16479.0  Brentford Community Stadium  Michael Oliver  Match Report   \n",
              "1     72732.0                 Old Trafford    Paul Tierney  Match Report   \n",
              "2     31983.0           King Power Stadium    Craig Pawson  Match Report   \n",
              "\n",
              "   Notes  \n",
              "0    NaN  \n",
              "1    NaN  \n",
              "2    NaN  "
            ],
            "text/html": [
              "\n",
              "  <div id=\"df-356fbcf2-2117-4be4-8ab1-b6f6bc4109aa\">\n",
              "    <div class=\"colab-df-container\">\n",
              "      <div>\n",
              "<style scoped>\n",
              "    .dataframe tbody tr th:only-of-type {\n",
              "        vertical-align: middle;\n",
              "    }\n",
              "\n",
              "    .dataframe tbody tr th {\n",
              "        vertical-align: top;\n",
              "    }\n",
              "\n",
              "    .dataframe thead th {\n",
              "        text-align: right;\n",
              "    }\n",
              "</style>\n",
              "<table border=\"1\" class=\"dataframe\">\n",
              "  <thead>\n",
              "    <tr style=\"text-align: right;\">\n",
              "      <th></th>\n",
              "      <th>Wk</th>\n",
              "      <th>Day</th>\n",
              "      <th>Date</th>\n",
              "      <th>Time</th>\n",
              "      <th>Home</th>\n",
              "      <th>xG</th>\n",
              "      <th>Score</th>\n",
              "      <th>xG.1</th>\n",
              "      <th>Away</th>\n",
              "      <th>Attendance</th>\n",
              "      <th>Venue</th>\n",
              "      <th>Referee</th>\n",
              "      <th>Match Report</th>\n",
              "      <th>Notes</th>\n",
              "    </tr>\n",
              "  </thead>\n",
              "  <tbody>\n",
              "    <tr>\n",
              "      <th>0</th>\n",
              "      <td>1.0</td>\n",
              "      <td>Fri</td>\n",
              "      <td>2021-08-13</td>\n",
              "      <td>20:00</td>\n",
              "      <td>Brentford</td>\n",
              "      <td>1.3</td>\n",
              "      <td>2–0</td>\n",
              "      <td>1.4</td>\n",
              "      <td>Arsenal</td>\n",
              "      <td>16479.0</td>\n",
              "      <td>Brentford Community Stadium</td>\n",
              "      <td>Michael Oliver</td>\n",
              "      <td>Match Report</td>\n",
              "      <td>NaN</td>\n",
              "    </tr>\n",
              "    <tr>\n",
              "      <th>1</th>\n",
              "      <td>1.0</td>\n",
              "      <td>Sat</td>\n",
              "      <td>2021-08-14</td>\n",
              "      <td>12:30</td>\n",
              "      <td>Manchester Utd</td>\n",
              "      <td>1.5</td>\n",
              "      <td>5–1</td>\n",
              "      <td>0.6</td>\n",
              "      <td>Leeds United</td>\n",
              "      <td>72732.0</td>\n",
              "      <td>Old Trafford</td>\n",
              "      <td>Paul Tierney</td>\n",
              "      <td>Match Report</td>\n",
              "      <td>NaN</td>\n",
              "    </tr>\n",
              "    <tr>\n",
              "      <th>2</th>\n",
              "      <td>1.0</td>\n",
              "      <td>Sat</td>\n",
              "      <td>2021-08-14</td>\n",
              "      <td>15:00</td>\n",
              "      <td>Leicester City</td>\n",
              "      <td>0.8</td>\n",
              "      <td>1–0</td>\n",
              "      <td>1.1</td>\n",
              "      <td>Wolves</td>\n",
              "      <td>31983.0</td>\n",
              "      <td>King Power Stadium</td>\n",
              "      <td>Craig Pawson</td>\n",
              "      <td>Match Report</td>\n",
              "      <td>NaN</td>\n",
              "    </tr>\n",
              "  </tbody>\n",
              "</table>\n",
              "</div>\n",
              "      <button class=\"colab-df-convert\" onclick=\"convertToInteractive('df-356fbcf2-2117-4be4-8ab1-b6f6bc4109aa')\"\n",
              "              title=\"Convert this dataframe to an interactive table.\"\n",
              "              style=\"display:none;\">\n",
              "        \n",
              "  <svg xmlns=\"http://www.w3.org/2000/svg\" height=\"24px\"viewBox=\"0 0 24 24\"\n",
              "       width=\"24px\">\n",
              "    <path d=\"M0 0h24v24H0V0z\" fill=\"none\"/>\n",
              "    <path d=\"M18.56 5.44l.94 2.06.94-2.06 2.06-.94-2.06-.94-.94-2.06-.94 2.06-2.06.94zm-11 1L8.5 8.5l.94-2.06 2.06-.94-2.06-.94L8.5 2.5l-.94 2.06-2.06.94zm10 10l.94 2.06.94-2.06 2.06-.94-2.06-.94-.94-2.06-.94 2.06-2.06.94z\"/><path d=\"M17.41 7.96l-1.37-1.37c-.4-.4-.92-.59-1.43-.59-.52 0-1.04.2-1.43.59L10.3 9.45l-7.72 7.72c-.78.78-.78 2.05 0 2.83L4 21.41c.39.39.9.59 1.41.59.51 0 1.02-.2 1.41-.59l7.78-7.78 2.81-2.81c.8-.78.8-2.07 0-2.86zM5.41 20L4 18.59l7.72-7.72 1.47 1.35L5.41 20z\"/>\n",
              "  </svg>\n",
              "      </button>\n",
              "      \n",
              "  <style>\n",
              "    .colab-df-container {\n",
              "      display:flex;\n",
              "      flex-wrap:wrap;\n",
              "      gap: 12px;\n",
              "    }\n",
              "\n",
              "    .colab-df-convert {\n",
              "      background-color: #E8F0FE;\n",
              "      border: none;\n",
              "      border-radius: 50%;\n",
              "      cursor: pointer;\n",
              "      display: none;\n",
              "      fill: #1967D2;\n",
              "      height: 32px;\n",
              "      padding: 0 0 0 0;\n",
              "      width: 32px;\n",
              "    }\n",
              "\n",
              "    .colab-df-convert:hover {\n",
              "      background-color: #E2EBFA;\n",
              "      box-shadow: 0px 1px 2px rgba(60, 64, 67, 0.3), 0px 1px 3px 1px rgba(60, 64, 67, 0.15);\n",
              "      fill: #174EA6;\n",
              "    }\n",
              "\n",
              "    [theme=dark] .colab-df-convert {\n",
              "      background-color: #3B4455;\n",
              "      fill: #D2E3FC;\n",
              "    }\n",
              "\n",
              "    [theme=dark] .colab-df-convert:hover {\n",
              "      background-color: #434B5C;\n",
              "      box-shadow: 0px 1px 3px 1px rgba(0, 0, 0, 0.15);\n",
              "      filter: drop-shadow(0px 1px 2px rgba(0, 0, 0, 0.3));\n",
              "      fill: #FFFFFF;\n",
              "    }\n",
              "  </style>\n",
              "\n",
              "      <script>\n",
              "        const buttonEl =\n",
              "          document.querySelector('#df-356fbcf2-2117-4be4-8ab1-b6f6bc4109aa button.colab-df-convert');\n",
              "        buttonEl.style.display =\n",
              "          google.colab.kernel.accessAllowed ? 'block' : 'none';\n",
              "\n",
              "        async function convertToInteractive(key) {\n",
              "          const element = document.querySelector('#df-356fbcf2-2117-4be4-8ab1-b6f6bc4109aa');\n",
              "          const dataTable =\n",
              "            await google.colab.kernel.invokeFunction('convertToInteractive',\n",
              "                                                     [key], {});\n",
              "          if (!dataTable) return;\n",
              "\n",
              "          const docLinkHtml = 'Like what you see? Visit the ' +\n",
              "            '<a target=\"_blank\" href=https://colab.research.google.com/notebooks/data_table.ipynb>data table notebook</a>'\n",
              "            + ' to learn more about interactive tables.';\n",
              "          element.innerHTML = '';\n",
              "          dataTable['output_type'] = 'display_data';\n",
              "          await google.colab.output.renderOutput(dataTable, element);\n",
              "          const docLink = document.createElement('div');\n",
              "          docLink.innerHTML = docLinkHtml;\n",
              "          element.appendChild(docLink);\n",
              "        }\n",
              "      </script>\n",
              "    </div>\n",
              "  </div>\n",
              "  "
            ]
          },
          "metadata": {},
          "execution_count": 3
        }
      ]
    },
    {
      "cell_type": "code",
      "source": [
        "print(pl22.isnull().sum())\n",
        "#153 matches haven't been played yet so I want to probably create a subset of my data with only matches that have been played\n",
        "#I'll do this towards the end\n",
        "\n",
        "\n",
        "print(pl22.info())\n",
        "#Need to fix Date column and Time column\n",
        "#Label Home and Away XG's\n",
        "#Split Score and make columns for Home and Away Score, then reoder.\n",
        "#Drop Match Report Column\n",
        "#Create a column that indicates the final match result"
      ],
      "metadata": {
        "colab": {
          "base_uri": "https://localhost:8080/"
        },
        "id": "jXmuJrmhNdTJ",
        "outputId": "6e811621-c417-47c9-e421-4c6d22369063"
      },
      "execution_count": 4,
      "outputs": [
        {
          "output_type": "stream",
          "name": "stdout",
          "text": [
            "Wk               68\n",
            "Day              68\n",
            "Date             68\n",
            "Time             68\n",
            "Home             68\n",
            "xG               81\n",
            "Score            81\n",
            "xG.1             81\n",
            "Away             68\n",
            "Attendance       82\n",
            "Venue            68\n",
            "Referee          81\n",
            "Match Report     68\n",
            "Notes           448\n",
            "dtype: int64\n",
            "<class 'pandas.core.frame.DataFrame'>\n",
            "RangeIndex: 448 entries, 0 to 447\n",
            "Data columns (total 14 columns):\n",
            " #   Column        Non-Null Count  Dtype  \n",
            "---  ------        --------------  -----  \n",
            " 0   Wk            380 non-null    float64\n",
            " 1   Day           380 non-null    object \n",
            " 2   Date          380 non-null    object \n",
            " 3   Time          380 non-null    object \n",
            " 4   Home          380 non-null    object \n",
            " 5   xG            367 non-null    float64\n",
            " 6   Score         367 non-null    object \n",
            " 7   xG.1          367 non-null    float64\n",
            " 8   Away          380 non-null    object \n",
            " 9   Attendance    366 non-null    float64\n",
            " 10  Venue         380 non-null    object \n",
            " 11  Referee       367 non-null    object \n",
            " 12  Match Report  380 non-null    object \n",
            " 13  Notes         0 non-null      float64\n",
            "dtypes: float64(5), object(9)\n",
            "memory usage: 49.1+ KB\n",
            "None\n"
          ]
        }
      ]
    },
    {
      "cell_type": "code",
      "source": [
        "#split Score column into away and home score\n",
        "def home_score(input):\n",
        "  input = str(input)\n",
        "  return input[0]\n",
        "def away_score(input):\n",
        "  input = str(input)\n",
        "  return input[2]\n"
      ],
      "metadata": {
        "id": "6rpG18QSNdGg"
      },
      "execution_count": 5,
      "outputs": []
    },
    {
      "cell_type": "code",
      "source": [
        "#compares home and away scores columns to get result of the match.\n",
        "def get_result(row):\n",
        "  if row.Home_Score > row.Away_Score:\n",
        "    return \"H\"\n",
        "  elif row.Home_Score < row.Away_Score:\n",
        "    return \"A\"\n",
        "  elif row.Home_Score == row.Away_Score:\n",
        "    return \"D\"\n",
        "  else:\n",
        "    return None\n"
      ],
      "metadata": {
        "id": "_1MDeLsGNc00"
      },
      "execution_count": 6,
      "outputs": []
    },
    {
      "cell_type": "code",
      "source": [
        "# Function to clean datasets\n",
        "def clean_data(data):\n",
        "  # Change Date column to DateTime format\n",
        "  data['Date'] = pd.to_datetime(data['Date'])\n",
        "\n",
        "  #rename xG columns\n",
        "  data.rename(columns={'xG': 'HxG', 'xG.1': 'AxG'}, inplace=True) \n",
        "\n",
        "  #split Score column into away and home score\n",
        "  data[\"Home_Score\"] = data.Score.apply(home_score)\n",
        "  data[\"Away_Score\"] = data.Score.apply(away_score)\n",
        "\n",
        "  #get rid of the n's in our new columns and converts our columns data type into float\n",
        "  data = data.replace({'n': None})\n",
        "  data[\"Home_Score\"] = pd.to_numeric(data[\"Home_Score\"])\n",
        "  data[\"Away_Score\"] = pd.to_numeric(data[\"Away_Score\"])\n",
        "\n",
        "  #compares home and away scores to get match result.\n",
        "  data[\"Result\"] = data.apply(get_result, axis = \"columns\")\n",
        "\n",
        "  #drop and reorganize the columns\n",
        "  data = data[['Wk', 'Day', 'Date', 'Time', 'Home', 'HxG','Home_Score', 'Away_Score', 'AxG', 'Away', \"Result\",\n",
        "       'Attendance', 'Venue', 'Referee', 'Notes']]\n",
        "  return data\n",
        "\n",
        "\n",
        "\n",
        "pl18 = clean_data(pl18)\n",
        "pl19 = clean_data(pl19)\n",
        "pl20 = clean_data(pl20)\n",
        "pl21 = clean_data(pl21)\n",
        "pl22 = clean_data(pl22)\n"
      ],
      "metadata": {
        "id": "yUVTKTQO6dP-"
      },
      "execution_count": 7,
      "outputs": []
    },
    {
      "cell_type": "markdown",
      "source": [
        "## Data Visualization: Exploring Home Field Advantage\n",
        "____\n",
        "\n",
        "Fans are a huge part of any major sport. In this section we look to explore the impact a home field packed with supporters has on a match. To do this we will look at the current premier league season. We will then compare the current season to the previous season, where there were no fans present at matches due to covid."
      ],
      "metadata": {
        "id": "SpQsCOi-IqH4"
      }
    },
    {
      "cell_type": "markdown",
      "source": [
        "#### Home vs Away Frequency of Goal Scored in a Game"
      ],
      "metadata": {
        "id": "umbq403GBZKH"
      }
    },
    {
      "cell_type": "markdown",
      "source": [
        "2021/2022 Premier League Season"
      ],
      "metadata": {
        "id": "LDlqd7jSEo9P"
      }
    },
    {
      "cell_type": "code",
      "source": [
        "plt.hist([pl22.Home_Score, pl22.Away_Score], bins = 7, label=['Home', 'Away'])\n",
        "plt.legend(loc='upper right')\n",
        "plt.xlabel(\"Goal(s) scored in a game\")\n",
        "plt.ylabel(\"Frequency\")\n",
        "plt.title(\"21/22 Season: Home vs Away Frequency of Goal Scored in a Game\")\n",
        "plt.rcParams[\"figure.figsize\"] = (12,8)\n",
        "plt.show()"
      ],
      "metadata": {
        "colab": {
          "base_uri": "https://localhost:8080/",
          "height": 513
        },
        "id": "drWBCpw8aDfX",
        "outputId": "656b834c-3e07-43a1-afa4-df0f85ad88c8"
      },
      "execution_count": 31,
      "outputs": [
        {
          "output_type": "display_data",
          "data": {
            "text/plain": [
              "<Figure size 864x576 with 1 Axes>"
            ],
            "image/png": "[encoded data removed]"
          },
          "metadata": {
            "needs_background": "light"
          }
        }
      ]
    },
    {
      "cell_type": "markdown",
      "source": [
        "2020/2021 Premier League Season: No Fans"
      ],
      "metadata": {
        "id": "1St9hCU2ExAe"
      }
    },
    {
      "cell_type": "code",
      "source": [
        "plt.hist([pl21.Home_Score, pl21.Away_Score], bins = 7, label=['Home', 'Away'])\n",
        "plt.legend(loc='upper right')\n",
        "plt.xlabel(\"Goal(s) scored in a game\")\n",
        "plt.ylabel(\"Frequency\")\n",
        "plt.title(\"20/21 Season: Home vs Away Frequency of Goal Scored in a Game\")\n",
        "plt.rcParams[\"figure.figsize\"] = (12,8)\n",
        "plt.show()"
      ],
      "metadata": {
        "colab": {
          "base_uri": "https://localhost:8080/",
          "height": 513
        },
        "id": "r6j887A0AYnz",
        "outputId": "43f68e66-4186-4d7f-cf3a-beb2e87904ed"
      },
      "execution_count": 9,
      "outputs": [
        {
          "output_type": "display_data",
          "data": {
            "text/plain": [
              "<Figure size 864x576 with 1 Axes>"
            ],
            "image/png": "[encoded data removed]"
          },
          "metadata": {
            "needs_background": "light"
          }
        }
      ]
    },
    {
      "cell_type": "markdown",
      "source": [
        "#### Frequency of Match Restults: Bar Chart & Pie Chart"
      ],
      "metadata": {
        "id": "lmDXP0UHDbKW"
      }
    },
    {
      "cell_type": "markdown",
      "source": [
        "2021/2022 Premier League Season"
      ],
      "metadata": {
        "id": "SC205ZtwFBoV"
      }
    },
    {
      "cell_type": "code",
      "source": [
        "pl22.Result.value_counts().plot(kind = \"bar\")\n",
        "plt.ylabel(\"Frequency\")\n",
        "plt.xlabel(\"Winning Team\")\n",
        "plt.title(\"21/22 Season: Frequency of Home Wins, Away Wins, and Draws\")\n",
        "plt.show;"
      ],
      "metadata": {
        "colab": {
          "base_uri": "https://localhost:8080/",
          "height": 511
        },
        "id": "6AgxbY-iBMKb",
        "outputId": "cec5bd32-f4e1-44cf-a832-5335e2f6ee79"
      },
      "execution_count": 10,
      "outputs": [
        {
          "output_type": "display_data",
          "data": {
            "text/plain": [
              "<Figure size 864x576 with 1 Axes>"
            ],
            "image/png": "[encoded data removed]"
          },
          "metadata": {
            "needs_background": "light"
          }
        }
      ]
    },
    {
      "cell_type": "markdown",
      "source": [
        "2020/2021 Premier League Season: No Fans"
      ],
      "metadata": {
        "id": "PUlhnnqrE3bN"
      }
    },
    {
      "cell_type": "code",
      "source": [
        "pl21.Result.value_counts().plot(kind = \"bar\")\n",
        "plt.ylabel(\"Frequency\")\n",
        "plt.xlabel(\"Winning Team\")\n",
        "plt.title(\"20/21 Season: Frequency of Home Wins, Away Wins, and Draws\")\n",
        "plt.show;"
      ],
      "metadata": {
        "colab": {
          "base_uri": "https://localhost:8080/",
          "height": 511
        },
        "id": "QrOrLehMAeX8",
        "outputId": "58421c6f-354b-403f-b15b-71a5a53464e4"
      },
      "execution_count": 11,
      "outputs": [
        {
          "output_type": "display_data",
          "data": {
            "text/plain": [
              "<Figure size 864x576 with 1 Axes>"
            ],
            "image/png": "[encoded data removed]"
          },
          "metadata": {
            "needs_background": "light"
          }
        }
      ]
    },
    {
      "cell_type": "markdown",
      "source": [
        "2021/2022 Premier League Season"
      ],
      "metadata": {
        "id": "vyW_WmMaFC76"
      }
    },
    {
      "cell_type": "code",
      "source": [
        "label = ['Home Win', 'Away Win', 'Draw']\n",
        "plt.pie(pl22.Result.value_counts(),labels = label,autopct='%1.1f%%')\n",
        "plt.title('21/22 Season: Pie Chart of Match Results')\n",
        "plt.axis('equal')\n",
        "plt.show()"
      ],
      "metadata": {
        "colab": {
          "base_uri": "https://localhost:8080/",
          "height": 482
        },
        "id": "EgMR8MX-HFhg",
        "outputId": "02761e24-e069-4d17-dc8a-c5ac221a5931"
      },
      "execution_count": 12,
      "outputs": [
        {
          "output_type": "display_data",
          "data": {
            "text/plain": [
              "<Figure size 864x576 with 1 Axes>"
            ],
            "image/png": "[encoded data removed]"
          },
          "metadata": {}
        }
      ]
    },
    {
      "cell_type": "markdown",
      "source": [
        "2020/2021 Premier League Season: No Fans"
      ],
      "metadata": {
        "id": "0G05E-NOE4vM"
      }
    },
    {
      "cell_type": "code",
      "source": [
        "label = ['Away Win', 'Home Win', 'Draw']\n",
        "plt.pie(pl21.Result.value_counts(),labels = label,autopct='%1.1f%%')\n",
        "plt.title('20/21 Season: Pie Chart of Match Results')\n",
        "plt.axis('equal')\n",
        "plt.show()"
      ],
      "metadata": {
        "colab": {
          "base_uri": "https://localhost:8080/",
          "height": 482
        },
        "id": "AsJKa_KcAich",
        "outputId": "8d808284-a43f-4e7b-ba7f-ae9c5e08f61c"
      },
      "execution_count": 13,
      "outputs": [
        {
          "output_type": "display_data",
          "data": {
            "text/plain": [
              "<Figure size 864x576 with 1 Axes>"
            ],
            "image/png": "[encoded data removed]"
          },
          "metadata": {}
        }
      ]
    },
    {
      "cell_type": "markdown",
      "source": [
        "#### Home vs. Away Average Goals Per For Every Team"
      ],
      "metadata": {
        "id": "oZwnz273DThH"
      }
    },
    {
      "cell_type": "code",
      "source": [
        "#Create another data frame with fixtures that have already been played\n",
        "df1 = pl22[pl22[\"Home_Score\"].isnull() == False]\n",
        "\n",
        "#create a sorted team names array that will be usefull later\n",
        "teams = df1.Home.unique()\n",
        "teams = np.sort(teams)"
      ],
      "metadata": {
        "id": "LNj2ltcIJLFa"
      },
      "execution_count": 14,
      "outputs": []
    },
    {
      "cell_type": "markdown",
      "source": [
        "2021/2022 Premier League Season"
      ],
      "metadata": {
        "id": "PFii6L8BFETy"
      }
    },
    {
      "cell_type": "code",
      "source": [
        "X_axis = np.arange(len(teams))\n",
        "  \n",
        "plt.bar(X_axis - 0.2, pl22.groupby(\"Home\").Home_Score.mean(), 0.4, label = 'Home')\n",
        "plt.bar(X_axis + 0.2, pl22.groupby(\"Away\").Away_Score.mean(), 0.4, label = 'Away')\n",
        "  \n",
        "plt.xticks(X_axis, teams)\n",
        "plt.xlabel(\"Teams\")\n",
        "plt.ylabel(\"Average Goals per Game\")\n",
        "plt.title(\"21/22 Season: Home vs. Away Average Goals Per For Every Team\")\n",
        "plt.rcParams[\"figure.figsize\"] = (30,15)\n",
        "plt.legend()\n",
        "plt.show()\n"
      ],
      "metadata": {
        "colab": {
          "base_uri": "https://localhost:8080/",
          "height": 533
        },
        "id": "mBc1GNhRwF26",
        "outputId": "d80957c5-01e8-410c-b235-2c84ed5d6cc9"
      },
      "execution_count": 33,
      "outputs": [
        {
          "output_type": "display_data",
          "data": {
            "text/plain": [
              "<Figure size 2160x1080 with 1 Axes>"
            ],
            "image/png": "[encoded data removed]"
          },
          "metadata": {
            "needs_background": "light"
          }
        }
      ]
    },
    {
      "cell_type": "markdown",
      "source": [
        "2020/2021 Premier League Season: No Fans"
      ],
      "metadata": {
        "id": "dgsFmdZKE8aV"
      }
    },
    {
      "cell_type": "code",
      "source": [
        "X_axis = np.arange(len(teams))\n",
        "  \n",
        "plt.bar(X_axis - 0.2, pl21.groupby(\"Home\").Home_Score.mean(), 0.4, label = 'Home')\n",
        "plt.bar(X_axis + 0.2, pl21.groupby(\"Away\").Away_Score.mean(), 0.4, label = 'Away')\n",
        "  \n",
        "plt.xticks(X_axis, teams)\n",
        "plt.xlabel(\"Teams\")\n",
        "plt.ylabel(\"Average Goals per Game\")\n",
        "plt.title(\"20/21 Season: Home vs. Away Average Goals Per For Every Team\")\n",
        "plt.rcParams[\"figure.figsize\"] = (30,15)\n",
        "plt.legend()\n",
        "plt.show()"
      ],
      "metadata": {
        "colab": {
          "base_uri": "https://localhost:8080/",
          "height": 533
        },
        "id": "iUVT3VjBBHIT",
        "outputId": "a095af31-bdfa-445e-d27f-0af520c42260"
      },
      "execution_count": 16,
      "outputs": [
        {
          "output_type": "display_data",
          "data": {
            "text/plain": [
              "<Figure size 2160x1080 with 1 Axes>"
            ],
            "image/png": "[encoded data removed]"
          },
          "metadata": {
            "needs_background": "light"
          }
        }
      ]
    },
    {
      "cell_type": "markdown",
      "source": [
        "## Creating new columns/features\n",
        "--- "
      ],
      "metadata": {
        "id": "cgIgctkQ52qB"
      }
    },
    {
      "cell_type": "code",
      "source": [
        "# these two functions will help retreive the home and away stats I create in future functions that return lists\n",
        "def hstat(stat):\n",
        "  return stat[0]\n",
        "\n",
        "def astat(stat):\n",
        "  return stat[1]"
      ],
      "metadata": {
        "id": "WtfBbS6SpSSW"
      },
      "execution_count": 17,
      "outputs": []
    },
    {
      "cell_type": "code",
      "source": [
        "games_played = {}\n",
        "for i in teams:\n",
        "  games_played[i] = 0\n",
        "\n",
        "\n",
        "def gp(row):\n",
        "# This function is doing two things:\n",
        "# 1) returning the home and away games played up before the match\n",
        "# 2) updating our dictionary to add increment games played after the match\n",
        "  h = games_played[row.Home]\n",
        "  a = games_played[row.Away]\n",
        "  games_played[row.Home] += 1\n",
        "  games_played[row.Away] += 1\n",
        "# I return a list in order to get points for both teams\n",
        "# I will need to split this list up into the two different columns later. \n",
        "  return [h,a]\n",
        "\n",
        "df1[\"gp\"] = df1.apply(gp, axis = \"columns\")\n",
        "\n",
        "df1[\"Home_gp\"] = df1[\"gp\"].apply(hstat)\n",
        "df1[\"Away_gp\"] = df1[\"gp\"].apply(astat)\n"
      ],
      "metadata": {
        "id": "kzSmjMtTwtqA",
        "colab": {
          "base_uri": "https://localhost:8080/"
        },
        "outputId": "1d0fe543-f0ab-47d7-f5b7-0e94371c7747"
      },
      "execution_count": 18,
      "outputs": [
        {
          "output_type": "stream",
          "name": "stderr",
          "text": [
            "/usr/local/lib/python3.7/dist-packages/ipykernel_launcher.py:18: SettingWithCopyWarning: \n",
            "A value is trying to be set on a copy of a slice from a DataFrame.\n",
            "Try using .loc[row_indexer,col_indexer] = value instead\n",
            "\n",
            "See the caveats in the documentation: https://pandas.pydata.org/pandas-docs/stable/user_guide/indexing.html#returning-a-view-versus-a-copy\n",
            "/usr/local/lib/python3.7/dist-packages/ipykernel_launcher.py:20: SettingWithCopyWarning: \n",
            "A value is trying to be set on a copy of a slice from a DataFrame.\n",
            "Try using .loc[row_indexer,col_indexer] = value instead\n",
            "\n",
            "See the caveats in the documentation: https://pandas.pydata.org/pandas-docs/stable/user_guide/indexing.html#returning-a-view-versus-a-copy\n",
            "/usr/local/lib/python3.7/dist-packages/ipykernel_launcher.py:21: SettingWithCopyWarning: \n",
            "A value is trying to be set on a copy of a slice from a DataFrame.\n",
            "Try using .loc[row_indexer,col_indexer] = value instead\n",
            "\n",
            "See the caveats in the documentation: https://pandas.pydata.org/pandas-docs/stable/user_guide/indexing.html#returning-a-view-versus-a-copy\n"
          ]
        }
      ]
    },
    {
      "cell_type": "code",
      "source": [
        "#creating an empty dictionary to keep track of the total points a certain team has\n",
        "team_pts = {}\n",
        "for i in teams:\n",
        "  team_pts[i] = 0\n",
        "\n",
        "\n",
        "def tpts(row):\n",
        "# This function is doing two things:\n",
        "# 1) returning the home and away points up before the match\n",
        "# 2) updating our dictionary to add the ponints received after the match\n",
        "  h = team_pts[row.Home]\n",
        "  a = team_pts[row.Away]\n",
        "  if row.Result == \"H\":\n",
        "    team_pts[row.Home] += 3\n",
        "  elif row.Result == \"A\":\n",
        "    team_pts[row.Away] += 3\n",
        "  elif row.Result == None:\n",
        "    return None\n",
        "  else:\n",
        "    team_pts[row.Home] += 1\n",
        "    team_pts[row.Away] += 1\n",
        "# I return a list in order to get points for both teams\n",
        "# I will need to split this list up into the two different columns later. \n",
        "  return [h,a]\n",
        "\n",
        "df1[\"pts\"] = df1.apply(tpts, axis = \"columns\")\n",
        "\n",
        "df1[\"Home_pts\"] = df1.pts.apply(hstat)\n",
        "df1[\"Away_pts\"] = df1.pts.apply(astat)"
      ],
      "metadata": {
        "id": "cEvNB1xonKEJ",
        "colab": {
          "base_uri": "https://localhost:8080/"
        },
        "outputId": "dfbe148f-80f0-4331-d80d-3ead5372da00"
      },
      "execution_count": 19,
      "outputs": [
        {
          "output_type": "stream",
          "name": "stderr",
          "text": [
            "/usr/local/lib/python3.7/dist-packages/ipykernel_launcher.py:26: SettingWithCopyWarning: \n",
            "A value is trying to be set on a copy of a slice from a DataFrame.\n",
            "Try using .loc[row_indexer,col_indexer] = value instead\n",
            "\n",
            "See the caveats in the documentation: https://pandas.pydata.org/pandas-docs/stable/user_guide/indexing.html#returning-a-view-versus-a-copy\n",
            "/usr/local/lib/python3.7/dist-packages/ipykernel_launcher.py:28: SettingWithCopyWarning: \n",
            "A value is trying to be set on a copy of a slice from a DataFrame.\n",
            "Try using .loc[row_indexer,col_indexer] = value instead\n",
            "\n",
            "See the caveats in the documentation: https://pandas.pydata.org/pandas-docs/stable/user_guide/indexing.html#returning-a-view-versus-a-copy\n",
            "/usr/local/lib/python3.7/dist-packages/ipykernel_launcher.py:29: SettingWithCopyWarning: \n",
            "A value is trying to be set on a copy of a slice from a DataFrame.\n",
            "Try using .loc[row_indexer,col_indexer] = value instead\n",
            "\n",
            "See the caveats in the documentation: https://pandas.pydata.org/pandas-docs/stable/user_guide/indexing.html#returning-a-view-versus-a-copy\n"
          ]
        }
      ]
    },
    {
      "cell_type": "code",
      "source": [
        "df1[\"Home_ppg\"] = df1[\"Home_pts\"]/ df1[\"Home_gp\"]\n",
        "df1[\"Away_ppg\"] = df1[\"Away_pts\"]/ df1[\"Away_gp\"]\n",
        "\n",
        "df1[['Home_ppg', \"Away_ppg\"]] = df1[['Home_ppg', \"Away_ppg\"]].fillna(0)"
      ],
      "metadata": {
        "id": "izcoh_E7E1dV",
        "colab": {
          "base_uri": "https://localhost:8080/"
        },
        "outputId": "f2fb15f2-aa06-4a6e-bc49-16a455582f67"
      },
      "execution_count": 20,
      "outputs": [
        {
          "output_type": "stream",
          "name": "stderr",
          "text": [
            "/usr/local/lib/python3.7/dist-packages/ipykernel_launcher.py:1: SettingWithCopyWarning: \n",
            "A value is trying to be set on a copy of a slice from a DataFrame.\n",
            "Try using .loc[row_indexer,col_indexer] = value instead\n",
            "\n",
            "See the caveats in the documentation: https://pandas.pydata.org/pandas-docs/stable/user_guide/indexing.html#returning-a-view-versus-a-copy\n",
            "  \"\"\"Entry point for launching an IPython kernel.\n",
            "/usr/local/lib/python3.7/dist-packages/ipykernel_launcher.py:2: SettingWithCopyWarning: \n",
            "A value is trying to be set on a copy of a slice from a DataFrame.\n",
            "Try using .loc[row_indexer,col_indexer] = value instead\n",
            "\n",
            "See the caveats in the documentation: https://pandas.pydata.org/pandas-docs/stable/user_guide/indexing.html#returning-a-view-versus-a-copy\n",
            "  \n",
            "/usr/local/lib/python3.7/dist-packages/pandas/core/frame.py:3641: SettingWithCopyWarning: \n",
            "A value is trying to be set on a copy of a slice from a DataFrame.\n",
            "Try using .loc[row_indexer,col_indexer] = value instead\n",
            "\n",
            "See the caveats in the documentation: https://pandas.pydata.org/pandas-docs/stable/user_guide/indexing.html#returning-a-view-versus-a-copy\n",
            "  self[k1] = value[k2]\n"
          ]
        }
      ]
    },
    {
      "cell_type": "code",
      "source": [
        "team_form = {}\n",
        "for i in teams:\n",
        "  team_form[i] = \"\"\n",
        "\n",
        "def form(row):\n",
        "  h = team_form[row.Home]\n",
        "  a = team_form[row.Away]\n",
        "  if row.Result == \"H\":\n",
        "    team_form[row.Home] += \"W\"\n",
        "    team_form[row.Away] += \"L\"\n",
        "  elif row.Result == \"A\":\n",
        "    team_form[row.Home] += \"L\"\n",
        "    team_form[row.Away] += \"W\"\n",
        "  else:\n",
        "    team_form[row.Home] += \"D\"\n",
        "    team_form[row.Away] += \"D\"\n",
        "  return [h[-5:],a[-5:]]\n",
        "\n",
        "df1[\"form\"] = df1.apply(form, axis = \"columns\")\n",
        "\n",
        "df1[\"Home_form\"] = df1.form.apply(hstat)\n",
        "df1[\"Away_form\"] = df1.form.apply(astat)"
      ],
      "metadata": {
        "id": "1ZNjI22CtSll",
        "colab": {
          "base_uri": "https://localhost:8080/"
        },
        "outputId": "be55423d-1a3a-41e3-b8bb-516e38fac3c3"
      },
      "execution_count": 21,
      "outputs": [
        {
          "output_type": "stream",
          "name": "stderr",
          "text": [
            "/usr/local/lib/python3.7/dist-packages/ipykernel_launcher.py:19: SettingWithCopyWarning: \n",
            "A value is trying to be set on a copy of a slice from a DataFrame.\n",
            "Try using .loc[row_indexer,col_indexer] = value instead\n",
            "\n",
            "See the caveats in the documentation: https://pandas.pydata.org/pandas-docs/stable/user_guide/indexing.html#returning-a-view-versus-a-copy\n",
            "/usr/local/lib/python3.7/dist-packages/ipykernel_launcher.py:21: SettingWithCopyWarning: \n",
            "A value is trying to be set on a copy of a slice from a DataFrame.\n",
            "Try using .loc[row_indexer,col_indexer] = value instead\n",
            "\n",
            "See the caveats in the documentation: https://pandas.pydata.org/pandas-docs/stable/user_guide/indexing.html#returning-a-view-versus-a-copy\n",
            "/usr/local/lib/python3.7/dist-packages/ipykernel_launcher.py:22: SettingWithCopyWarning: \n",
            "A value is trying to be set on a copy of a slice from a DataFrame.\n",
            "Try using .loc[row_indexer,col_indexer] = value instead\n",
            "\n",
            "See the caveats in the documentation: https://pandas.pydata.org/pandas-docs/stable/user_guide/indexing.html#returning-a-view-versus-a-copy\n"
          ]
        }
      ]
    },
    {
      "cell_type": "code",
      "source": [
        "# Here I create a dictionary to assign points to different results\n",
        "fp = {\"W\":3,\"D\":1,\"L\":0}\n",
        "\n",
        "# The function here gets the total form points from my form columns\n",
        "def formpts(form):\n",
        "  total = 0\n",
        "  for i in form:\n",
        "    total += fp[i]\n",
        "  return total\n",
        "\n",
        "df1[\"Away_fp\"] = df1[\"Away_form\"].apply(formpts)\n",
        "df1[\"Home_fp\"] = df1[\"Home_form\"].apply(formpts)"
      ],
      "metadata": {
        "id": "4u_w8bulSzjr",
        "colab": {
          "base_uri": "https://localhost:8080/"
        },
        "outputId": "1a067d76-9882-485e-8711-501c499eeee3"
      },
      "execution_count": 22,
      "outputs": [
        {
          "output_type": "stream",
          "name": "stderr",
          "text": [
            "/usr/local/lib/python3.7/dist-packages/ipykernel_launcher.py:11: SettingWithCopyWarning: \n",
            "A value is trying to be set on a copy of a slice from a DataFrame.\n",
            "Try using .loc[row_indexer,col_indexer] = value instead\n",
            "\n",
            "See the caveats in the documentation: https://pandas.pydata.org/pandas-docs/stable/user_guide/indexing.html#returning-a-view-versus-a-copy\n",
            "  # This is added back by InteractiveShellApp.init_path()\n",
            "/usr/local/lib/python3.7/dist-packages/ipykernel_launcher.py:12: SettingWithCopyWarning: \n",
            "A value is trying to be set on a copy of a slice from a DataFrame.\n",
            "Try using .loc[row_indexer,col_indexer] = value instead\n",
            "\n",
            "See the caveats in the documentation: https://pandas.pydata.org/pandas-docs/stable/user_guide/indexing.html#returning-a-view-versus-a-copy\n",
            "  if sys.path[0] == '':\n"
          ]
        }
      ]
    },
    {
      "cell_type": "code",
      "source": [
        "# With this dictionary I use arrays for my values.\n",
        "# This is to help keep track of the number of goals scored in each game.\n",
        "# It also helps when i want to calculate the means / tandard deviations\n",
        "gs = {}\n",
        "for i in teams:\n",
        "  gs[i] = np.array([])\n",
        "\n",
        "def goals(row):\n",
        "  h = gs[row.Home]\n",
        "  a = gs[row.Away]\n",
        "  gs[row.Home] = np.append(gs[row.Home],row.Home_Score)\n",
        "  gs[row.Away] = np.append(gs[row.Away],row.Away_Score) \n",
        "  return [h.sum(),a.sum()]\n",
        "\n",
        "df1[\"goals\"] = df1.apply(goals, axis = \"columns\")\n",
        "\n",
        "df1[\"Home_gs\"] = df1[\"goals\"].apply(hstat)\n",
        "df1[\"Away_gs\"] = df1[\"goals\"].apply(astat)"
      ],
      "metadata": {
        "id": "mJXptG4g8Lvk",
        "colab": {
          "base_uri": "https://localhost:8080/"
        },
        "outputId": "a65ee7d7-5129-4a26-91f8-1ca86672d314"
      },
      "execution_count": 23,
      "outputs": [
        {
          "output_type": "stream",
          "name": "stderr",
          "text": [
            "/usr/local/lib/python3.7/dist-packages/ipykernel_launcher.py:15: SettingWithCopyWarning: \n",
            "A value is trying to be set on a copy of a slice from a DataFrame.\n",
            "Try using .loc[row_indexer,col_indexer] = value instead\n",
            "\n",
            "See the caveats in the documentation: https://pandas.pydata.org/pandas-docs/stable/user_guide/indexing.html#returning-a-view-versus-a-copy\n",
            "  from ipykernel import kernelapp as app\n",
            "/usr/local/lib/python3.7/dist-packages/ipykernel_launcher.py:17: SettingWithCopyWarning: \n",
            "A value is trying to be set on a copy of a slice from a DataFrame.\n",
            "Try using .loc[row_indexer,col_indexer] = value instead\n",
            "\n",
            "See the caveats in the documentation: https://pandas.pydata.org/pandas-docs/stable/user_guide/indexing.html#returning-a-view-versus-a-copy\n",
            "/usr/local/lib/python3.7/dist-packages/ipykernel_launcher.py:18: SettingWithCopyWarning: \n",
            "A value is trying to be set on a copy of a slice from a DataFrame.\n",
            "Try using .loc[row_indexer,col_indexer] = value instead\n",
            "\n",
            "See the caveats in the documentation: https://pandas.pydata.org/pandas-docs/stable/user_guide/indexing.html#returning-a-view-versus-a-copy\n"
          ]
        }
      ]
    },
    {
      "cell_type": "code",
      "source": [
        "df1[\"Home_gspg\"] = df1[\"Home_gs\"]/ df1[\"Home_gp\"]\n",
        "df1[\"Away_gspg\"] = df1[\"Away_gs\"]/ df1[\"Away_gp\"]\n",
        "\n",
        "df1[['Home_gspg', \"Away_gspg\"]] = df1[['Home_gspg', \"Away_gspg\"]].fillna(0)"
      ],
      "metadata": {
        "id": "izzL5uJ4FjJC",
        "colab": {
          "base_uri": "https://localhost:8080/"
        },
        "outputId": "32f28c51-75d4-4d57-d2b3-9cc249183419"
      },
      "execution_count": 24,
      "outputs": [
        {
          "output_type": "stream",
          "name": "stderr",
          "text": [
            "/usr/local/lib/python3.7/dist-packages/ipykernel_launcher.py:1: SettingWithCopyWarning: \n",
            "A value is trying to be set on a copy of a slice from a DataFrame.\n",
            "Try using .loc[row_indexer,col_indexer] = value instead\n",
            "\n",
            "See the caveats in the documentation: https://pandas.pydata.org/pandas-docs/stable/user_guide/indexing.html#returning-a-view-versus-a-copy\n",
            "  \"\"\"Entry point for launching an IPython kernel.\n",
            "/usr/local/lib/python3.7/dist-packages/ipykernel_launcher.py:2: SettingWithCopyWarning: \n",
            "A value is trying to be set on a copy of a slice from a DataFrame.\n",
            "Try using .loc[row_indexer,col_indexer] = value instead\n",
            "\n",
            "See the caveats in the documentation: https://pandas.pydata.org/pandas-docs/stable/user_guide/indexing.html#returning-a-view-versus-a-copy\n",
            "  \n",
            "/usr/local/lib/python3.7/dist-packages/pandas/core/frame.py:3641: SettingWithCopyWarning: \n",
            "A value is trying to be set on a copy of a slice from a DataFrame.\n",
            "Try using .loc[row_indexer,col_indexer] = value instead\n",
            "\n",
            "See the caveats in the documentation: https://pandas.pydata.org/pandas-docs/stable/user_guide/indexing.html#returning-a-view-versus-a-copy\n",
            "  self[k1] = value[k2]\n"
          ]
        }
      ]
    },
    {
      "cell_type": "code",
      "source": [
        "# With this dictionary I use arrays for my values.\n",
        "# This is to help keep track of the number of goals scored in each game.\n",
        "# It also helps when i want to calculate the means / tandard deviations\n",
        "gc = {}\n",
        "for i in teams:\n",
        "  gc[i] = np.array([])\n",
        "\n",
        "def goals_conceded(row):\n",
        "  h = gc[row.Home]\n",
        "  a = gc[row.Away]\n",
        "  gc[row.Home] = np.append(gc[row.Home],row.Away_Score)\n",
        "  gc[row.Away] = np.append(gc[row.Away],row.Home_Score) \n",
        "  return [h.sum(),a.sum()]\n",
        "\n",
        "df1[\"gc\"] = df1.apply(goals_conceded, axis = \"columns\")\n",
        "\n",
        "df1[\"Home_gc\"] = df1[\"gc\"].apply(hstat)\n",
        "df1[\"Away_gc\"] = df1[\"gc\"].apply(astat)"
      ],
      "metadata": {
        "id": "9BHXlfQ8XqSa",
        "colab": {
          "base_uri": "https://localhost:8080/"
        },
        "outputId": "a8daca5f-6432-40bb-e7ca-d12367e7337b"
      },
      "execution_count": 25,
      "outputs": [
        {
          "output_type": "stream",
          "name": "stderr",
          "text": [
            "/usr/local/lib/python3.7/dist-packages/ipykernel_launcher.py:15: SettingWithCopyWarning: \n",
            "A value is trying to be set on a copy of a slice from a DataFrame.\n",
            "Try using .loc[row_indexer,col_indexer] = value instead\n",
            "\n",
            "See the caveats in the documentation: https://pandas.pydata.org/pandas-docs/stable/user_guide/indexing.html#returning-a-view-versus-a-copy\n",
            "  from ipykernel import kernelapp as app\n",
            "/usr/local/lib/python3.7/dist-packages/ipykernel_launcher.py:17: SettingWithCopyWarning: \n",
            "A value is trying to be set on a copy of a slice from a DataFrame.\n",
            "Try using .loc[row_indexer,col_indexer] = value instead\n",
            "\n",
            "See the caveats in the documentation: https://pandas.pydata.org/pandas-docs/stable/user_guide/indexing.html#returning-a-view-versus-a-copy\n",
            "/usr/local/lib/python3.7/dist-packages/ipykernel_launcher.py:18: SettingWithCopyWarning: \n",
            "A value is trying to be set on a copy of a slice from a DataFrame.\n",
            "Try using .loc[row_indexer,col_indexer] = value instead\n",
            "\n",
            "See the caveats in the documentation: https://pandas.pydata.org/pandas-docs/stable/user_guide/indexing.html#returning-a-view-versus-a-copy\n"
          ]
        }
      ]
    },
    {
      "cell_type": "code",
      "source": [
        "df1[\"Home_gcpg\"] = df1[\"Home_gc\"]/ df1[\"Home_gp\"]\n",
        "df1[\"Away_gcpg\"] = df1[\"Away_gc\"]/ df1[\"Away_gp\"]\n",
        "\n",
        "df1[['Home_gcpg', \"Away_gcpg\"]] = df1[['Home_gcpg', \"Away_gcpg\"]].fillna(0)"
      ],
      "metadata": {
        "id": "kdSoFKKlYyEc",
        "colab": {
          "base_uri": "https://localhost:8080/"
        },
        "outputId": "851e58a4-8f9f-4c2c-a6c5-e11b73860e64"
      },
      "execution_count": 26,
      "outputs": [
        {
          "output_type": "stream",
          "name": "stderr",
          "text": [
            "/usr/local/lib/python3.7/dist-packages/ipykernel_launcher.py:1: SettingWithCopyWarning: \n",
            "A value is trying to be set on a copy of a slice from a DataFrame.\n",
            "Try using .loc[row_indexer,col_indexer] = value instead\n",
            "\n",
            "See the caveats in the documentation: https://pandas.pydata.org/pandas-docs/stable/user_guide/indexing.html#returning-a-view-versus-a-copy\n",
            "  \"\"\"Entry point for launching an IPython kernel.\n",
            "/usr/local/lib/python3.7/dist-packages/ipykernel_launcher.py:2: SettingWithCopyWarning: \n",
            "A value is trying to be set on a copy of a slice from a DataFrame.\n",
            "Try using .loc[row_indexer,col_indexer] = value instead\n",
            "\n",
            "See the caveats in the documentation: https://pandas.pydata.org/pandas-docs/stable/user_guide/indexing.html#returning-a-view-versus-a-copy\n",
            "  \n",
            "/usr/local/lib/python3.7/dist-packages/pandas/core/frame.py:3641: SettingWithCopyWarning: \n",
            "A value is trying to be set on a copy of a slice from a DataFrame.\n",
            "Try using .loc[row_indexer,col_indexer] = value instead\n",
            "\n",
            "See the caveats in the documentation: https://pandas.pydata.org/pandas-docs/stable/user_guide/indexing.html#returning-a-view-versus-a-copy\n",
            "  self[k1] = value[k2]\n"
          ]
        }
      ]
    },
    {
      "cell_type": "code",
      "source": [
        "# Dropping and Re-arranging columns\n",
        "df1 = df1[['Wk', 'Day', 'Date', 'Time', 'Home', 'HxG', 'Home_Score', 'Away_Score',\n",
        "       'AxG', 'Away', 'Result', 'Attendance', 'Venue', 'Referee', 'Home_gp', 'Away_gp', 'Home_pts', 'Away_pts',\n",
        "       'Home_ppg', 'Away_ppg','Home_form', 'Away_form', 'Home_fp',\n",
        "       'Away_fp','Home_gs', 'Away_gs', 'Home_gc', 'Away_gc', \"Home_gspg\", \"Away_gspg\", 'Home_gcpg', \"Away_gcpg\"]]"
      ],
      "metadata": {
        "id": "M3oBtvcTBoXU"
      },
      "execution_count": 27,
      "outputs": []
    },
    {
      "cell_type": "code",
      "source": [
        "df1[df1.Result == \"D\"]"
      ],
      "metadata": {
        "id": "owkIxp2iJxjL",
        "colab": {
          "base_uri": "https://localhost:8080/",
          "height": 653
        },
        "outputId": "08c99b4c-2dd1-453d-e37b-952bd163e46d"
      },
      "execution_count": 28,
      "outputs": [
        {
          "output_type": "execute_result",
          "data": {
            "text/plain": [
              "       Wk  Day       Date   Time            Home  HxG  Home_Score  Away_Score  \\\n",
              "14    2.0  Sat 2021-08-21  15:00    Leeds United  1.5         2.0         2.0   \n",
              "15    2.0  Sat 2021-08-21  15:00  Crystal Palace  0.6         0.0         0.0   \n",
              "18    2.0  Sun 2021-08-22  14:00     Southampton  0.8         1.0         1.0   \n",
              "24    3.0  Sat 2021-08-28  15:00        West Ham  1.2         2.0         2.0   \n",
              "25    3.0  Sat 2021-08-28  15:00     Aston Villa  0.6         1.0         1.0   \n",
              "..    ...  ...        ...    ...             ...  ...         ...         ...   \n",
              "416  30.0  Wed 2022-05-11  19:45         Watford  0.3         0.0         0.0   \n",
              "423  37.0  Sun 2022-05-15  14:00    Leeds United  2.0         1.0         1.0   \n",
              "425  37.0  Sun 2022-05-15  14:00          Wolves  0.9         1.0         1.0   \n",
              "426  37.0  Sun 2022-05-15  14:00     Aston Villa  1.0         1.0         1.0   \n",
              "427  37.0  Sun 2022-05-15  14:00        West Ham  1.3         2.0         2.0   \n",
              "\n",
              "     AxG             Away  ... Home_fp  Away_fp Home_gs Away_gs  Home_gc  \\\n",
              "14   2.0          Everton  ...       0        3     1.0     3.0      5.0   \n",
              "15   0.9        Brentford  ...       0        3     0.0     2.0      3.0   \n",
              "18   1.4   Manchester Utd  ...       0        3     1.0     5.0      3.0   \n",
              "24   0.7   Crystal Palace  ...       6        1     8.0     0.0      3.0   \n",
              "25   1.1        Brentford  ...       3        4     4.0     2.0      3.0   \n",
              "..   ...              ...  ...     ...      ...     ...     ...      ...   \n",
              "416  1.2          Everton  ...       0       10    32.0    37.0     70.0   \n",
              "423  2.2         Brighton  ...       4       10    39.0    38.0     77.0   \n",
              "425  1.3     Norwich City  ...       1        0    36.0    22.0     39.0   \n",
              "426  1.3   Crystal Palace  ...       7        7    48.0    46.0     49.0   \n",
              "427  2.5  Manchester City  ...       4       15    57.0    94.0     46.0   \n",
              "\n",
              "     Away_gc  Home_gspg  Away_gspg  Home_gcpg  Away_gcpg  \n",
              "14       1.0   1.000000   3.000000   5.000000   1.000000  \n",
              "15       0.0   0.000000   2.000000   3.000000   0.000000  \n",
              "18       1.0   1.000000   5.000000   3.000000   1.000000  \n",
              "24       3.0   4.000000   0.000000   1.500000   1.500000  \n",
              "25       0.0   2.000000   1.000000   1.500000   0.000000  \n",
              "..       ...        ...        ...        ...        ...  \n",
              "416     56.0   0.914286   1.088235   2.000000   1.647059  \n",
              "423     42.0   1.083333   1.055556   2.138889   1.166667  \n",
              "425     78.0   1.000000   0.611111   1.083333   2.166667  \n",
              "426     42.0   1.371429   1.314286   1.400000   1.200000  \n",
              "427     22.0   1.583333   2.611111   1.277778   0.611111  \n",
              "\n",
              "[86 rows x 32 columns]"
            ],
            "text/html": [
              "\n",
              "  <div id=\"df-2ebe58ea-b7bf-4adb-bc8c-5466aa6d1d2f\">\n",
              "    <div class=\"colab-df-container\">\n",
              "      <div>\n",
              "<style scoped>\n",
              "    .dataframe tbody tr th:only-of-type {\n",
              "        vertical-align: middle;\n",
              "    }\n",
              "\n",
              "    .dataframe tbody tr th {\n",
              "        vertical-align: top;\n",
              "    }\n",
              "\n",
              "    .dataframe thead th {\n",
              "        text-align: right;\n",
              "    }\n",
              "</style>\n",
              "<table border=\"1\" class=\"dataframe\">\n",
              "  <thead>\n",
              "    <tr style=\"text-align: right;\">\n",
              "      <th></th>\n",
              "      <th>Wk</th>\n",
              "      <th>Day</th>\n",
              "      <th>Date</th>\n",
              "      <th>Time</th>\n",
              "      <th>Home</th>\n",
              "      <th>HxG</th>\n",
              "      <th>Home_Score</th>\n",
              "      <th>Away_Score</th>\n",
              "      <th>AxG</th>\n",
              "      <th>Away</th>\n",
              "      <th>...</th>\n",
              "      <th>Home_fp</th>\n",
              "      <th>Away_fp</th>\n",
              "      <th>Home_gs</th>\n",
              "      <th>Away_gs</th>\n",
              "      <th>Home_gc</th>\n",
              "      <th>Away_gc</th>\n",
              "      <th>Home_gspg</th>\n",
              "      <th>Away_gspg</th>\n",
              "      <th>Home_gcpg</th>\n",
              "      <th>Away_gcpg</th>\n",
              "    </tr>\n",
              "  </thead>\n",
              "  <tbody>\n",
              "    <tr>\n",
              "      <th>14</th>\n",
              "      <td>2.0</td>\n",
              "      <td>Sat</td>\n",
              "      <td>2021-08-21</td>\n",
              "      <td>15:00</td>\n",
              "      <td>Leeds United</td>\n",
              "      <td>1.5</td>\n",
              "      <td>2.0</td>\n",
              "      <td>2.0</td>\n",
              "      <td>2.0</td>\n",
              "      <td>Everton</td>\n",
              "      <td>...</td>\n",
              "      <td>0</td>\n",
              "      <td>3</td>\n",
              "      <td>1.0</td>\n",
              "      <td>3.0</td>\n",
              "      <td>5.0</td>\n",
              "      <td>1.0</td>\n",
              "      <td>1.000000</td>\n",
              "      <td>3.000000</td>\n",
              "      <td>5.000000</td>\n",
              "      <td>1.000000</td>\n",
              "    </tr>\n",
              "    <tr>\n",
              "      <th>15</th>\n",
              "      <td>2.0</td>\n",
              "      <td>Sat</td>\n",
              "      <td>2021-08-21</td>\n",
              "      <td>15:00</td>\n",
              "      <td>Crystal Palace</td>\n",
              "      <td>0.6</td>\n",
              "      <td>0.0</td>\n",
              "      <td>0.0</td>\n",
              "      <td>0.9</td>\n",
              "      <td>Brentford</td>\n",
              "      <td>...</td>\n",
              "      <td>0</td>\n",
              "      <td>3</td>\n",
              "      <td>0.0</td>\n",
              "      <td>2.0</td>\n",
              "      <td>3.0</td>\n",
              "      <td>0.0</td>\n",
              "      <td>0.000000</td>\n",
              "      <td>2.000000</td>\n",
              "      <td>3.000000</td>\n",
              "      <td>0.000000</td>\n",
              "    </tr>\n",
              "    <tr>\n",
              "      <th>18</th>\n",
              "      <td>2.0</td>\n",
              "      <td>Sun</td>\n",
              "      <td>2021-08-22</td>\n",
              "      <td>14:00</td>\n",
              "      <td>Southampton</td>\n",
              "      <td>0.8</td>\n",
              "      <td>1.0</td>\n",
              "      <td>1.0</td>\n",
              "      <td>1.4</td>\n",
              "      <td>Manchester Utd</td>\n",
              "      <td>...</td>\n",
              "      <td>0</td>\n",
              "      <td>3</td>\n",
              "      <td>1.0</td>\n",
              "      <td>5.0</td>\n",
              "      <td>3.0</td>\n",
              "      <td>1.0</td>\n",
              "      <td>1.000000</td>\n",
              "      <td>5.000000</td>\n",
              "      <td>3.000000</td>\n",
              "      <td>1.000000</td>\n",
              "    </tr>\n",
              "    <tr>\n",
              "      <th>24</th>\n",
              "      <td>3.0</td>\n",
              "      <td>Sat</td>\n",
              "      <td>2021-08-28</td>\n",
              "      <td>15:00</td>\n",
              "      <td>West Ham</td>\n",
              "      <td>1.2</td>\n",
              "      <td>2.0</td>\n",
              "      <td>2.0</td>\n",
              "      <td>0.7</td>\n",
              "      <td>Crystal Palace</td>\n",
              "      <td>...</td>\n",
              "      <td>6</td>\n",
              "      <td>1</td>\n",
              "      <td>8.0</td>\n",
              "      <td>0.0</td>\n",
              "      <td>3.0</td>\n",
              "      <td>3.0</td>\n",
              "      <td>4.000000</td>\n",
              "      <td>0.000000</td>\n",
              "      <td>1.500000</td>\n",
              "      <td>1.500000</td>\n",
              "    </tr>\n",
              "    <tr>\n",
              "      <th>25</th>\n",
              "      <td>3.0</td>\n",
              "      <td>Sat</td>\n",
              "      <td>2021-08-28</td>\n",
              "      <td>15:00</td>\n",
              "      <td>Aston Villa</td>\n",
              "      <td>0.6</td>\n",
              "      <td>1.0</td>\n",
              "      <td>1.0</td>\n",
              "      <td>1.1</td>\n",
              "      <td>Brentford</td>\n",
              "      <td>...</td>\n",
              "      <td>3</td>\n",
              "      <td>4</td>\n",
              "      <td>4.0</td>\n",
              "      <td>2.0</td>\n",
              "      <td>3.0</td>\n",
              "      <td>0.0</td>\n",
              "      <td>2.000000</td>\n",
              "      <td>1.000000</td>\n",
              "      <td>1.500000</td>\n",
              "      <td>0.000000</td>\n",
              "    </tr>\n",
              "    <tr>\n",
              "      <th>...</th>\n",
              "      <td>...</td>\n",
              "      <td>...</td>\n",
              "      <td>...</td>\n",
              "      <td>...</td>\n",
              "      <td>...</td>\n",
              "      <td>...</td>\n",
              "      <td>...</td>\n",
              "      <td>...</td>\n",
              "      <td>...</td>\n",
              "      <td>...</td>\n",
              "      <td>...</td>\n",
              "      <td>...</td>\n",
              "      <td>...</td>\n",
              "      <td>...</td>\n",
              "      <td>...</td>\n",
              "      <td>...</td>\n",
              "      <td>...</td>\n",
              "      <td>...</td>\n",
              "      <td>...</td>\n",
              "      <td>...</td>\n",
              "      <td>...</td>\n",
              "    </tr>\n",
              "    <tr>\n",
              "      <th>416</th>\n",
              "      <td>30.0</td>\n",
              "      <td>Wed</td>\n",
              "      <td>2022-05-11</td>\n",
              "      <td>19:45</td>\n",
              "      <td>Watford</td>\n",
              "      <td>0.3</td>\n",
              "      <td>0.0</td>\n",
              "      <td>0.0</td>\n",
              "      <td>1.2</td>\n",
              "      <td>Everton</td>\n",
              "      <td>...</td>\n",
              "      <td>0</td>\n",
              "      <td>10</td>\n",
              "      <td>32.0</td>\n",
              "      <td>37.0</td>\n",
              "      <td>70.0</td>\n",
              "      <td>56.0</td>\n",
              "      <td>0.914286</td>\n",
              "      <td>1.088235</td>\n",
              "      <td>2.000000</td>\n",
              "      <td>1.647059</td>\n",
              "    </tr>\n",
              "    <tr>\n",
              "      <th>423</th>\n",
              "      <td>37.0</td>\n",
              "      <td>Sun</td>\n",
              "      <td>2022-05-15</td>\n",
              "      <td>14:00</td>\n",
              "      <td>Leeds United</td>\n",
              "      <td>2.0</td>\n",
              "      <td>1.0</td>\n",
              "      <td>1.0</td>\n",
              "      <td>2.2</td>\n",
              "      <td>Brighton</td>\n",
              "      <td>...</td>\n",
              "      <td>4</td>\n",
              "      <td>10</td>\n",
              "      <td>39.0</td>\n",
              "      <td>38.0</td>\n",
              "      <td>77.0</td>\n",
              "      <td>42.0</td>\n",
              "      <td>1.083333</td>\n",
              "      <td>1.055556</td>\n",
              "      <td>2.138889</td>\n",
              "      <td>1.166667</td>\n",
              "    </tr>\n",
              "    <tr>\n",
              "      <th>425</th>\n",
              "      <td>37.0</td>\n",
              "      <td>Sun</td>\n",
              "      <td>2022-05-15</td>\n",
              "      <td>14:00</td>\n",
              "      <td>Wolves</td>\n",
              "      <td>0.9</td>\n",
              "      <td>1.0</td>\n",
              "      <td>1.0</td>\n",
              "      <td>1.3</td>\n",
              "      <td>Norwich City</td>\n",
              "      <td>...</td>\n",
              "      <td>1</td>\n",
              "      <td>0</td>\n",
              "      <td>36.0</td>\n",
              "      <td>22.0</td>\n",
              "      <td>39.0</td>\n",
              "      <td>78.0</td>\n",
              "      <td>1.000000</td>\n",
              "      <td>0.611111</td>\n",
              "      <td>1.083333</td>\n",
              "      <td>2.166667</td>\n",
              "    </tr>\n",
              "    <tr>\n",
              "      <th>426</th>\n",
              "      <td>37.0</td>\n",
              "      <td>Sun</td>\n",
              "      <td>2022-05-15</td>\n",
              "      <td>14:00</td>\n",
              "      <td>Aston Villa</td>\n",
              "      <td>1.0</td>\n",
              "      <td>1.0</td>\n",
              "      <td>1.0</td>\n",
              "      <td>1.3</td>\n",
              "      <td>Crystal Palace</td>\n",
              "      <td>...</td>\n",
              "      <td>7</td>\n",
              "      <td>7</td>\n",
              "      <td>48.0</td>\n",
              "      <td>46.0</td>\n",
              "      <td>49.0</td>\n",
              "      <td>42.0</td>\n",
              "      <td>1.371429</td>\n",
              "      <td>1.314286</td>\n",
              "      <td>1.400000</td>\n",
              "      <td>1.200000</td>\n",
              "    </tr>\n",
              "    <tr>\n",
              "      <th>427</th>\n",
              "      <td>37.0</td>\n",
              "      <td>Sun</td>\n",
              "      <td>2022-05-15</td>\n",
              "      <td>14:00</td>\n",
              "      <td>West Ham</td>\n",
              "      <td>1.3</td>\n",
              "      <td>2.0</td>\n",
              "      <td>2.0</td>\n",
              "      <td>2.5</td>\n",
              "      <td>Manchester City</td>\n",
              "      <td>...</td>\n",
              "      <td>4</td>\n",
              "      <td>15</td>\n",
              "      <td>57.0</td>\n",
              "      <td>94.0</td>\n",
              "      <td>46.0</td>\n",
              "      <td>22.0</td>\n",
              "      <td>1.583333</td>\n",
              "      <td>2.611111</td>\n",
              "      <td>1.277778</td>\n",
              "      <td>0.611111</td>\n",
              "    </tr>\n",
              "  </tbody>\n",
              "</table>\n",
              "<p>86 rows × 32 columns</p>\n",
              "</div>\n",
              "      <button class=\"colab-df-convert\" onclick=\"convertToInteractive('df-2ebe58ea-b7bf-4adb-bc8c-5466aa6d1d2f')\"\n",
              "              title=\"Convert this dataframe to an interactive table.\"\n",
              "              style=\"display:none;\">\n",
              "        \n",
              "  <svg xmlns=\"http://www.w3.org/2000/svg\" height=\"24px\"viewBox=\"0 0 24 24\"\n",
              "       width=\"24px\">\n",
              "    <path d=\"M0 0h24v24H0V0z\" fill=\"none\"/>\n",
              "    <path d=\"M18.56 5.44l.94 2.06.94-2.06 2.06-.94-2.06-.94-.94-2.06-.94 2.06-2.06.94zm-11 1L8.5 8.5l.94-2.06 2.06-.94-2.06-.94L8.5 2.5l-.94 2.06-2.06.94zm10 10l.94 2.06.94-2.06 2.06-.94-2.06-.94-.94-2.06-.94 2.06-2.06.94z\"/><path d=\"M17.41 7.96l-1.37-1.37c-.4-.4-.92-.59-1.43-.59-.52 0-1.04.2-1.43.59L10.3 9.45l-7.72 7.72c-.78.78-.78 2.05 0 2.83L4 21.41c.39.39.9.59 1.41.59.51 0 1.02-.2 1.41-.59l7.78-7.78 2.81-2.81c.8-.78.8-2.07 0-2.86zM5.41 20L4 18.59l7.72-7.72 1.47 1.35L5.41 20z\"/>\n",
              "  </svg>\n",
              "      </button>\n",
              "      \n",
              "  <style>\n",
              "    .colab-df-container {\n",
              "      display:flex;\n",
              "      flex-wrap:wrap;\n",
              "      gap: 12px;\n",
              "    }\n",
              "\n",
              "    .colab-df-convert {\n",
              "      background-color: #E8F0FE;\n",
              "      border: none;\n",
              "      border-radius: 50%;\n",
              "      cursor: pointer;\n",
              "      display: none;\n",
              "      fill: #1967D2;\n",
              "      height: 32px;\n",
              "      padding: 0 0 0 0;\n",
              "      width: 32px;\n",
              "    }\n",
              "\n",
              "    .colab-df-convert:hover {\n",
              "      background-color: #E2EBFA;\n",
              "      box-shadow: 0px 1px 2px rgba(60, 64, 67, 0.3), 0px 1px 3px 1px rgba(60, 64, 67, 0.15);\n",
              "      fill: #174EA6;\n",
              "    }\n",
              "\n",
              "    [theme=dark] .colab-df-convert {\n",
              "      background-color: #3B4455;\n",
              "      fill: #D2E3FC;\n",
              "    }\n",
              "\n",
              "    [theme=dark] .colab-df-convert:hover {\n",
              "      background-color: #434B5C;\n",
              "      box-shadow: 0px 1px 3px 1px rgba(0, 0, 0, 0.15);\n",
              "      filter: drop-shadow(0px 1px 2px rgba(0, 0, 0, 0.3));\n",
              "      fill: #FFFFFF;\n",
              "    }\n",
              "  </style>\n",
              "\n",
              "      <script>\n",
              "        const buttonEl =\n",
              "          document.querySelector('#df-2ebe58ea-b7bf-4adb-bc8c-5466aa6d1d2f button.colab-df-convert');\n",
              "        buttonEl.style.display =\n",
              "          google.colab.kernel.accessAllowed ? 'block' : 'none';\n",
              "\n",
              "        async function convertToInteractive(key) {\n",
              "          const element = document.querySelector('#df-2ebe58ea-b7bf-4adb-bc8c-5466aa6d1d2f');\n",
              "          const dataTable =\n",
              "            await google.colab.kernel.invokeFunction('convertToInteractive',\n",
              "                                                     [key], {});\n",
              "          if (!dataTable) return;\n",
              "\n",
              "          const docLinkHtml = 'Like what you see? Visit the ' +\n",
              "            '<a target=\"_blank\" href=https://colab.research.google.com/notebooks/data_table.ipynb>data table notebook</a>'\n",
              "            + ' to learn more about interactive tables.';\n",
              "          element.innerHTML = '';\n",
              "          dataTable['output_type'] = 'display_data';\n",
              "          await google.colab.output.renderOutput(dataTable, element);\n",
              "          const docLink = document.createElement('div');\n",
              "          docLink.innerHTML = docLinkHtml;\n",
              "          element.appendChild(docLink);\n",
              "        }\n",
              "      </script>\n",
              "    </div>\n",
              "  </div>\n",
              "  "
            ]
          },
          "metadata": {},
          "execution_count": 28
        }
      ]
    },
    {
      "cell_type": "code",
      "source": [
        "df1.to_excel(\"premier_league.xlsx\")"
      ],
      "metadata": {
        "id": "eKUNeLxGVvFC"
      },
      "execution_count": 29,
      "outputs": []
    }
  ]
}